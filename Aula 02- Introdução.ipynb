{
 "cells": [
  {
   "cell_type": "markdown",
   "metadata": {},
   "source": [
    "Palavras Reservadas"
   ]
  },
  {
   "cell_type": "code",
   "execution_count": 1,
   "metadata": {},
   "outputs": [
    {
     "name": "stdout",
     "output_type": "stream",
     "text": [
      "['False', 'None', 'True', 'and', 'as', 'assert', 'async', 'await', 'break', 'class', 'continue', 'def', 'del', 'elif', 'else', 'except', 'finally', 'for', 'from', 'global', 'if', 'import', 'in', 'is', 'lambda', 'nonlocal', 'not', 'or', 'pass', 'raise', 'return', 'try', 'while', 'with', 'yield']\n"
     ]
    }
   ],
   "source": [
    "import keyword\n",
    "print(keyword.kwlist)"
   ]
  },
  {
   "cell_type": "code",
   "execution_count": 9,
   "metadata": {},
   "outputs": [
    {
     "name": "stdout",
     "output_type": "stream",
     "text": [
      "o resultado da subtração é 1.0\n"
     ]
    }
   ],
   "source": [
    "# Exercício 02 – Crie um programa para receber dois valores e em seguida, exiba o valor da diferença entre eles.\n",
    "\n",
    "num1 = input(\"digite o primeiro valor\")\n",
    "num2 = input(\"digite o segundo valor\")\n",
    "\n",
    "num1=float(num1)\n",
    "num2=float(num2)\n",
    "\n",
    "diferenca=num1-num2\n",
    "\n",
    "# O comando print apresenta resultados no console\n",
    "\n",
    "print(f\"o resultado da subtração é {diferenca}\")\n"
   ]
  },
  {
   "cell_type": "code",
   "execution_count": 13,
   "metadata": {},
   "outputs": [
    {
     "name": "stdout",
     "output_type": "stream",
     "text": [
      "<class 'str'>\n",
      "<class 'str'>\n",
      "<class 'float'>\n",
      "<class 'float'>\n",
      "o resultado da multiplicação é 15.0\n"
     ]
    }
   ],
   "source": [
    "#Exercício 03 – Crie um programa para receber dois valores e em seguida, exiba o produto entre eles.\n",
    "\n",
    "# Inserindo dados de entrada com o comando INPUT \n",
    "\n",
    "num1 = input(\"digite o primeiro valor\")\n",
    "num2 = input(\"digite o segundo valor\")\n",
    "\n",
    "# Verificando o tipo de dado\n",
    "print (type(num1))\n",
    "print (type(num2))\n",
    "\n",
    "# Convertendo os valores de str para float\n",
    "num1=float(num1)\n",
    "num2=float(num2)\n",
    "\n",
    "print (type(num1))\n",
    "print (type(num2))\n",
    "\n",
    "# Calculando o produto dos valores\n",
    "produto=num1*num2\n",
    "\n",
    "# O comando print apresenta resultados no console\n",
    "\n",
    "print(f\"o resultado da multiplicação é {produto}\")"
   ]
  },
  {
   "cell_type": "code",
   "execution_count": 15,
   "metadata": {},
   "outputs": [
    {
     "name": "stdout",
     "output_type": "stream",
     "text": [
      "<class 'str'>\n",
      "<class 'str'>\n",
      "<class 'float'>\n",
      "<class 'float'>\n",
      "o resultado da divisão é 5.0\n"
     ]
    }
   ],
   "source": [
    "#Exercício 04 - Crie um programa para receber dois valores e em seguida, exiba o quociente entre eles.\n",
    "\n",
    "# Inserindo dados de entrada com o comando INPUT \n",
    "\n",
    "num1 = input(\"digite o primeiro valor\")\n",
    "num2 = input(\"digite o segundo valor\")\n",
    "\n",
    "# Verificando o tipo de dado\n",
    "print (type(num1))\n",
    "print (type(num2))\n",
    "\n",
    "# Convertendo os valores de str para float\n",
    "num1=float(num1)\n",
    "num2=float(num2)\n",
    "\n",
    "print (type(num1))\n",
    "print (type(num2))\n",
    "\n",
    "# Calculando o quociente dos valores\n",
    "quociente=num1/num2\n",
    "\n",
    "# O comando print apresenta resultados no console\n",
    "\n",
    "print(f\"o resultado da divisão é {quociente}\")"
   ]
  },
  {
   "cell_type": "code",
   "execution_count": 22,
   "metadata": {},
   "outputs": [
    {
     "name": "stdout",
     "output_type": "stream",
     "text": [
      "O resultado da questao A é 2.0\n",
      "O resultado da questao B é 6.0\n",
      "O resultado da questao C é 27.0\n"
     ]
    }
   ],
   "source": [
    "#Exercício 16 - Faça um Programa que peça 2 números inteiros e um número real.\n",
    "#Calcule e mostre:\n",
    "\n",
    "#a) o produto do dobro do primeiro com metade do segundo.\n",
    "#b) a soma do triplo do primeiro com o terceiro.\n",
    "#c) o terceiro elevado ao cubo.\n",
    "\n",
    "\n",
    "#Recebendo os valores e convertendo\n",
    "\n",
    "num1 = int(input(\"digite um numero inteiro\"))\n",
    "num2 = int(input(\"digite mais um numero inteiro\"))\n",
    "num3 = float(input(\"digite um numero real\"))\n",
    "\n",
    "questaoA=(num1*2)*(num2/2)\n",
    "questaoB=num1*3+num3\n",
    "questaoC=num3**3\n",
    "\n",
    "print(f\"O resultado da questao A é {questaoA}\")\n",
    "print(f\"O resultado da questao B é {questaoB}\")\n",
    "print(f\"O resultado da questao C é {questaoC}\")\n",
    "\n",
    "\n"
   ]
  },
  {
   "cell_type": "markdown",
   "metadata": {},
   "source": [
    "#Exercício 17 - João Papo-de-Pescador, homem de bem, comprou um microcomputador para controlar o rendimento diário de seu trabalho. Toda vez que ele traz um peso de peixes maior que o estabelecido pelo regulamento de pesca do estado de São Paulo\n",
    "(50 quilos) deve pagar uma multa de R$ 4,00 por quilo excedente. João precisa que\n",
    "você faça um programa que leia a variável peso (peso de peixes) e calcule o excesso.\n",
    "\n",
    "Gravar na variável excesso a quantidade de quilos além do limite e na variável multa o\n",
    "valor da multa que João deverá pagar. Imprima os dados do programa com as\n",
    "mensagens adequadas."
   ]
  },
  {
   "cell_type": "code",
   "execution_count": 29,
   "metadata": {},
   "outputs": [
    {
     "name": "stdout",
     "output_type": "stream",
     "text": [
      "A multa é de 12.0 reais\n"
     ]
    }
   ],
   "source": [
    "peso=float(input(\"Digite o peso de peixe\"))\n",
    "pesoMax=50\n",
    "multa=4\n",
    "\n",
    "\n",
    "ExcedentePeixe=(peso-pesoMax)*multa\n",
    "print(f\"A multa é de {ExcedentePeixe} reais\")\n"
   ]
  },
  {
   "cell_type": "markdown",
   "metadata": {},
   "source": [
    "Exercício 18 - Faça um Programa que pergunte quanto você ganha por hora e o número\n",
    "de horas trabalhadas no mês. Calcule e mostre o total do seu salário no referido mês,\n",
    "sabendo-se que são descontados 11% para o Imposto de Renda, 8% para o INSS e 5%\n",
    "para o sindicato, faça um programa que nos dê:\n",
    "a) salário bruto.\n",
    "b) quanto pagou ao INSS.\n",
    "c) quanto pagou ao sindicato.\n",
    "d) o salário líquido.\n",
    "e) calcule os descontos e o salário líquido, conforme a tabela abaixo:\n",
    "+ Salário Bruto : R$\n",
    "- IR (11%) : R$\n",
    "- INSS (8%) : R$\n",
    "- Sindicato ( 5%) : R$\n",
    "= Salário Liquido : R$"
   ]
  },
  {
   "cell_type": "code",
   "execution_count": 47,
   "metadata": {},
   "outputs": [
    {
     "name": "stdout",
     "output_type": "stream",
     "text": [
      "A)_Seu salario bruto é 2200.0 reais\n",
      "B)_Voce pagou ao inss 176.0 reais\n",
      "C)_Voce pagou ao sindicado 110.0 reais\n",
      "D)_Seu salario liquido é 1672.0 reais\n",
      "E)_O total de descontos foi de 528.0 reais\n",
      "\n",
      " + Salário Bruto: R$ 2200.0\n",
      " - IR (11%: R$ 242.0)\n",
      " - INSS (8%): R$ 176.0\n",
      " - Sindicato (5%): R$ 110.0\n",
      " = Salario Líquido: R$ 1672.0\n"
     ]
    }
   ],
   "source": [
    "# Inserindo os dados de salários e aliquotas\n",
    "\n",
    "salariohora=float(input(\"Digite o seu salario por hora\"))\n",
    "horastrabalhadas=int(input(\"Digite a quantidade de horas trabalhadas no mes\"))\n",
    "impRenda=0.11\n",
    "inss=0.08\n",
    "sindicato=0.05\n",
    "salariobruto=salariohora*horastrabalhadas\n",
    "\n",
    "#Calculando as aliquotas\n",
    "\n",
    "valor_ir = salariobruto * impRenda\n",
    "valor_inss = salariobruto * inss\n",
    "valor_sindicato = salariobruto * sindicato\n",
    "\n",
    "# Resolvendo as questões\n",
    "\n",
    "questaoA=salariohora*horastrabalhadas\n",
    "questaoB=salariohora*horastrabalhadas*inss\n",
    "questaoC=salariohora*horastrabalhadas*sindicato\n",
    "questaoD=salariohora*horastrabalhadas-(salariohora*horastrabalhadas)*(sindicato+inss+impRenda)\n",
    "questaoE=(salariohora*horastrabalhadas)*(sindicato+inss+impRenda)\n",
    "\n",
    "salarioliquido=questaoD\n",
    "\n",
    "# Exibindo os resultados\n",
    "\n",
    "print(f\"A)_Seu salario bruto é {questaoA} reais\")\n",
    "print(f\"B)_Voce pagou ao inss {questaoB} reais\")\n",
    "print(f\"C)_Voce pagou ao sindicado {questaoC} reais\")\n",
    "print(f\"D)_Seu salario liquido é {questaoD} reais\")\n",
    "print(f\"E)_O total de descontos foi de {questaoE} reais\")\n",
    "print(\"\")\n",
    "\n",
    "print(f\" + Salário Bruto: R$ {salariobruto}\")\n",
    "print(f\" - IR (11%: R$ {valor_ir})\")\n",
    "print(f\" - INSS (8%): R$ {valor_inss}\")\n",
    "print(f\" - Sindicato (5%): R$ {valor_sindicato}\")\n",
    "print(f\" = Salario Líquido: R$ {salarioliquido}\")\n",
    "\n"
   ]
  },
  {
   "cell_type": "markdown",
   "metadata": {},
   "source": [
    "Exercício 19 - Faça um programa para uma loja de tintas. O programa deverá pedir o\n",
    "tamanho em metros quadrados da área a ser pintada. Considere que a cobertura da\n",
    "tinta é de 1 litro para cada 3 metros quadrados e que a tinta é vendida em latas de 18\n",
    "litros, que custam R$ 80,00. Informe ao usuário a quantidades de latas de tinta a serem\n",
    "compradas e o preço total."
   ]
  },
  {
   "cell_type": "code",
   "execution_count": 56,
   "metadata": {},
   "outputs": [
    {
     "name": "stdout",
     "output_type": "stream",
     "text": [
      "Para pintar a área de 81.0 m²:\n",
      "Voce precisará de 2 latas de tinta\n",
      "O valor será R$ 160\n"
     ]
    }
   ],
   "source": [
    "#importar a biblioteca math para utilizar a função ceil\n",
    "\n",
    "import math\n",
    "\n",
    "# Informando área\n",
    "\n",
    "area=float(input(\"Qual a area a ser pintada?\"))\n",
    "\n",
    "# Dados \n",
    "\n",
    "volumeLata=18\n",
    "rendimentolata=volumeLata*3\n",
    "valortinta=80\n",
    "\n",
    "# Calculo\n",
    "\n",
    "quantidadelatas=math.ceil(area/(rendimentolata)) # Essa função arredonda valores para cima\n",
    "\n",
    "#O ideal era aplicar uma estrutura de condicional para verificar se a quantidades de latas é menor do que 1, masss vai ficar assim\n",
    "\n",
    "precototal=quantidadelatas*valortinta\n",
    "\n",
    "# Apresentação do resultado\n",
    "\n",
    "print(f\"Para pintar a área de {area} m²:\")\n",
    "print(f\"Voce precisará de {quantidadelatas} latas de tinta\")\n",
    "print(f\"O valor será R$ {precototal}\")\n",
    "\n",
    "\n"
   ]
  },
  {
   "cell_type": "markdown",
   "metadata": {},
   "source": [
    "AULA 2)\n",
    "\n",
    "Exercício 01 – Crie uma variável chamada \"idade\" e atribua um valor inteiro a ela.\n",
    "Verifique se a idade é maior ou igual a 18 e imprima \"Maior de idade\" ou \"Menor de\n",
    "idade\" de acordo com a condição."
   ]
  },
  {
   "cell_type": "code",
   "execution_count": 66,
   "metadata": {},
   "outputs": [
    {
     "name": "stdout",
     "output_type": "stream",
     "text": [
      "Você é maior de idade\n"
     ]
    }
   ],
   "source": [
    "idade=int(input(\"Qual a sua idade?\"))\n",
    "\n",
    "if  idade>=18:\n",
    "    print(\"Você é maior de idade!\")\n",
    "\n",
    "else:\n",
    "    print(\"Você é menor de idade!\")"
   ]
  },
  {
   "cell_type": "markdown",
   "metadata": {},
   "source": [
    "Exercício 02 - Crie uma variável chamada \"número\" e atribua um valor inteiro a ela.\n",
    "Verifique se o número é positivo, negativo ou zero e imprima a mensagem\n",
    "correspondente."
   ]
  },
  {
   "cell_type": "code",
   "execution_count": 79,
   "metadata": {},
   "outputs": [
    {
     "name": "stdout",
     "output_type": "stream",
     "text": [
      "Você indicou o numero 0\n"
     ]
    }
   ],
   "source": [
    "#Solução Mike\n",
    "\n",
    "numero=int(input(\"Informe um numero inteiro\"))\n",
    "\n",
    "if numero<0:\n",
    "    print(\"Você indicou um numero negativo\")\n",
    "if numero>0:\n",
    "    print(\"Você indicou um numero positivo\")\n",
    "if numero==0:\n",
    "    print(\"Você indicou o numero 0\")"
   ]
  },
  {
   "cell_type": "code",
   "execution_count": 87,
   "metadata": {},
   "outputs": [
    {
     "name": "stdout",
     "output_type": "stream",
     "text": [
      "Você indicou um valor NULO\n"
     ]
    }
   ],
   "source": [
    "#Solução Aula\n",
    "\n",
    "numero=int(input(\"Informe um numero inteiro\"))\n",
    "\n",
    "if numero<0:\n",
    "    print(\"Você indicou um numero negativo\")\n",
    "elif numero>0:\n",
    "    print(\"Você indicou um numero positivo\")\n",
    "else:\n",
    "    print(\"Você indicou um valor NULO\")"
   ]
  },
  {
   "cell_type": "markdown",
   "metadata": {},
   "source": [
    "Exercício 03 - Crie duas variáveis, \"nota1\" e \"nota2\", e atribua valores numéricos a elas.\n",
    "Verifique se a média das notas é maior ou igual a 7 e imprima \"Aprovado\" ou\n",
    "\"Reprovado\" de acordo com a condição."
   ]
  },
  {
   "cell_type": "code",
   "execution_count": 1,
   "metadata": {},
   "outputs": [
    {
     "name": "stdout",
     "output_type": "stream",
     "text": [
      "Você foi aprovado!\n"
     ]
    }
   ],
   "source": [
    "nota1=float(input(\"Informe a sua primeira nota\"))\n",
    "nota2=float(input(\"Informe a sua segunda nota\"))\n",
    "media=(nota1+nota2)/2\n",
    "\n",
    "if media<7:\n",
    "    print(\"Você foi reprovado!\")\n",
    "else:\n",
    "    print(\"Você foi aprovado!\")\n"
   ]
  }
 ],
 "metadata": {
  "kernelspec": {
   "display_name": "Python 3",
   "language": "python",
   "name": "python3"
  },
  "language_info": {
   "codemirror_mode": {
    "name": "ipython",
    "version": 3
   },
   "file_extension": ".py",
   "mimetype": "text/x-python",
   "name": "python",
   "nbconvert_exporter": "python",
   "pygments_lexer": "ipython3",
   "version": "3.11.0"
  }
 },
 "nbformat": 4,
 "nbformat_minor": 2
}
