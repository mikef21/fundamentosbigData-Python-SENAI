{
 "cells": [
  {
   "cell_type": "markdown",
   "metadata": {},
   "source": [
    "### Exercício 12: Análise de Satisfação de Bancos\n",
    "\n",
    "Imagine que você foi contratado por uma instituição financeira de grande porte para analisar a satisfação dos clientes com os serviços prestados pela empresa. Como\n",
    "analistas de df, sua missão é coletar, processar e analisar um grande volume de df para obter insights valiosos sobre o que os clientes pensam sobre a empresa,\n",
    "suas necessidades e expectativas. \n",
    "Para começar, vamos coletar df de diversas fontes, como pesquisas de satisfação, registros de atendimento ao cliente, feedbacks nas redes sociais e reclamações\n",
    "registradas em plataformas de avaliação de empresas. Com esses df em mãos, podemos criar um banco de df robusto e padronizado para análise."
   ]
  },
  {
   "cell_type": "markdown",
   "metadata": {},
   "source": [
    "### Faça as seguintes análises\n",
    "\n",
    "1) Analisar NPS de classificação de cada instituição\n",
    "2) Calcular a % de elogios do app para cada instituição\n",
    "3) Calcular a % de reclamações do app para cada instituição\n",
    "4) Calcular a % de elogios a instituição para cada instituição\n",
    "5) Calcular a % de reclamação a instituição para cada instituição\n",
    "6) Plote um gráfico de linhas para entender a tendência das classificações por instituição\n"
   ]
  },
  {
   "cell_type": "markdown",
   "metadata": {},
   "source": [
    "\n",
    "### Etapas:\n",
    "\n",
    "1) Importar as bibliotecas Pandas, Seaborn e Matplotlib;\n",
    "2) Carregue o arquivo df-satisfação.xlsx;\n",
    "3) Realizar o tratamento dos df categóricos, converta-os para df numéricos. As colunas que terão os df convertidos serão: Elogio quanto ao\n",
    "app, Reclamação quanto ao app, Elogio a Instituição, Reclamação a Instituição e Não Classificável.\n",
    "Nestas colunas, você deve substituir NÃO para 0 e SIM para 1. Converta os df para o tipo INT.\n",
    "\n",
    "### Análise de NPS por instituição\n",
    "4) Faça as seguintes substituições na coluna classificação:\n",
    "\n",
    "• 2 > -1\n",
    "\n",
    "• 1 > -1\n",
    "\n",
    "• 5 > 1\n",
    "\n",
    "• 4 > 1\n",
    "\n",
    "• 3 > 0"
   ]
  },
  {
   "cell_type": "code",
   "execution_count": 26,
   "metadata": {},
   "outputs": [],
   "source": [
    "# Importando bibliotecas\n",
    "\n",
    "import pandas as pd\n",
    "\n",
    "import matplotlib.pyplot as plt\n",
    "\n",
    "import seaborn as sns\n",
    "\n"
   ]
  },
  {
   "cell_type": "code",
   "execution_count": 4,
   "metadata": {},
   "outputs": [
    {
     "data": {
      "text/html": [
       "<div>\n",
       "<style scoped>\n",
       "    .dataframe tbody tr th:only-of-type {\n",
       "        vertical-align: middle;\n",
       "    }\n",
       "\n",
       "    .dataframe tbody tr th {\n",
       "        vertical-align: top;\n",
       "    }\n",
       "\n",
       "    .dataframe thead th {\n",
       "        text-align: right;\n",
       "    }\n",
       "</style>\n",
       "<table border=\"1\" class=\"dataframe\">\n",
       "  <thead>\n",
       "    <tr style=\"text-align: right;\">\n",
       "      <th></th>\n",
       "      <th>Instituição</th>\n",
       "      <th>Comentario</th>\n",
       "      <th>Data</th>\n",
       "      <th>Classificação</th>\n",
       "      <th>Elogio quanto ao app</th>\n",
       "      <th>Reclamação quanto ao app</th>\n",
       "      <th>Elogio a Instituição</th>\n",
       "      <th>Reclamação a Instituição</th>\n",
       "      <th>Não Classificável</th>\n",
       "    </tr>\n",
       "  </thead>\n",
       "  <tbody>\n",
       "    <tr>\n",
       "      <th>0</th>\n",
       "      <td>Banco do Brasil</td>\n",
       "      <td>Muito bom ajuda muito</td>\n",
       "      <td>2019-07-21</td>\n",
       "      <td>5</td>\n",
       "      <td>SIM</td>\n",
       "      <td>NÃO</td>\n",
       "      <td>NÃO</td>\n",
       "      <td>NÃO</td>\n",
       "      <td>NÃO</td>\n",
       "    </tr>\n",
       "    <tr>\n",
       "      <th>1</th>\n",
       "      <td>Banco do Brasil</td>\n",
       "      <td>excelente</td>\n",
       "      <td>2019-07-21</td>\n",
       "      <td>5</td>\n",
       "      <td>SIM</td>\n",
       "      <td>NÃO</td>\n",
       "      <td>NÃO</td>\n",
       "      <td>NÃO</td>\n",
       "      <td>NÃO</td>\n",
       "    </tr>\n",
       "    <tr>\n",
       "      <th>2</th>\n",
       "      <td>Banco do Brasil</td>\n",
       "      <td>Bom</td>\n",
       "      <td>2019-07-21</td>\n",
       "      <td>5</td>\n",
       "      <td>SIM</td>\n",
       "      <td>NÃO</td>\n",
       "      <td>NÃO</td>\n",
       "      <td>NÃO</td>\n",
       "      <td>NÃO</td>\n",
       "    </tr>\n",
       "    <tr>\n",
       "      <th>3</th>\n",
       "      <td>Banco do Brasil</td>\n",
       "      <td>aplicativo muito top</td>\n",
       "      <td>2019-07-21</td>\n",
       "      <td>5</td>\n",
       "      <td>SIM</td>\n",
       "      <td>NÃO</td>\n",
       "      <td>NÃO</td>\n",
       "      <td>NÃO</td>\n",
       "      <td>NÃO</td>\n",
       "    </tr>\n",
       "    <tr>\n",
       "      <th>4</th>\n",
       "      <td>Banco do Brasil</td>\n",
       "      <td>Fácil e prático</td>\n",
       "      <td>2019-07-21</td>\n",
       "      <td>5</td>\n",
       "      <td>SIM</td>\n",
       "      <td>NÃO</td>\n",
       "      <td>NÃO</td>\n",
       "      <td>NÃO</td>\n",
       "      <td>NÃO</td>\n",
       "    </tr>\n",
       "  </tbody>\n",
       "</table>\n",
       "</div>"
      ],
      "text/plain": [
       "       Instituição             Comentario       Data  Classificação  \\\n",
       "0  Banco do Brasil  Muito bom ajuda muito 2019-07-21              5   \n",
       "1  Banco do Brasil              excelente 2019-07-21              5   \n",
       "2  Banco do Brasil                    Bom 2019-07-21              5   \n",
       "3  Banco do Brasil   aplicativo muito top 2019-07-21              5   \n",
       "4  Banco do Brasil        Fácil e prático 2019-07-21              5   \n",
       "\n",
       "  Elogio quanto ao app Reclamação quanto ao app Elogio a Instituição  \\\n",
       "0                  SIM                      NÃO                  NÃO   \n",
       "1                  SIM                      NÃO                  NÃO   \n",
       "2                  SIM                      NÃO                  NÃO   \n",
       "3                  SIM                      NÃO                  NÃO   \n",
       "4                  SIM                      NÃO                  NÃO   \n",
       "\n",
       "  Reclamação a Instituição Não Classificável  \n",
       "0                      NÃO               NÃO  \n",
       "1                      NÃO               NÃO  \n",
       "2                      NÃO               NÃO  \n",
       "3                      NÃO               NÃO  \n",
       "4                      NÃO               NÃO  "
      ]
     },
     "execution_count": 4,
     "metadata": {},
     "output_type": "execute_result"
    }
   ],
   "source": [
    "\n",
    "\n",
    "#importando arquivo:\n",
    "caminho='./Arquivos/dados-satisfação.xlsx'\n",
    "\n",
    "#Alocar as informações em da data Frame\n",
    "df= pd.read_excel(caminho, sheet_name='treino')\n",
    "\n",
    "#Exibir o cabeçalho do dataframe\n",
    "df.head()"
   ]
  },
  {
   "cell_type": "code",
   "execution_count": 6,
   "metadata": {},
   "outputs": [
    {
     "data": {
      "text/html": [
       "<div>\n",
       "<style scoped>\n",
       "    .dataframe tbody tr th:only-of-type {\n",
       "        vertical-align: middle;\n",
       "    }\n",
       "\n",
       "    .dataframe tbody tr th {\n",
       "        vertical-align: top;\n",
       "    }\n",
       "\n",
       "    .dataframe thead th {\n",
       "        text-align: right;\n",
       "    }\n",
       "</style>\n",
       "<table border=\"1\" class=\"dataframe\">\n",
       "  <thead>\n",
       "    <tr style=\"text-align: right;\">\n",
       "      <th></th>\n",
       "      <th>Instituição</th>\n",
       "      <th>Comentario</th>\n",
       "      <th>Data</th>\n",
       "      <th>Classificação</th>\n",
       "      <th>Elogio quanto ao app</th>\n",
       "      <th>Reclamação quanto ao app</th>\n",
       "      <th>Elogio a Instituição</th>\n",
       "      <th>Reclamação a Instituição</th>\n",
       "      <th>Não Classificável</th>\n",
       "    </tr>\n",
       "  </thead>\n",
       "  <tbody>\n",
       "    <tr>\n",
       "      <th>0</th>\n",
       "      <td>Banco do Brasil</td>\n",
       "      <td>Muito bom ajuda muito</td>\n",
       "      <td>2019-07-21</td>\n",
       "      <td>5</td>\n",
       "      <td>1</td>\n",
       "      <td>0</td>\n",
       "      <td>0</td>\n",
       "      <td>0</td>\n",
       "      <td>0</td>\n",
       "    </tr>\n",
       "    <tr>\n",
       "      <th>1</th>\n",
       "      <td>Banco do Brasil</td>\n",
       "      <td>excelente</td>\n",
       "      <td>2019-07-21</td>\n",
       "      <td>5</td>\n",
       "      <td>1</td>\n",
       "      <td>0</td>\n",
       "      <td>0</td>\n",
       "      <td>0</td>\n",
       "      <td>0</td>\n",
       "    </tr>\n",
       "    <tr>\n",
       "      <th>2</th>\n",
       "      <td>Banco do Brasil</td>\n",
       "      <td>Bom</td>\n",
       "      <td>2019-07-21</td>\n",
       "      <td>5</td>\n",
       "      <td>1</td>\n",
       "      <td>0</td>\n",
       "      <td>0</td>\n",
       "      <td>0</td>\n",
       "      <td>0</td>\n",
       "    </tr>\n",
       "    <tr>\n",
       "      <th>3</th>\n",
       "      <td>Banco do Brasil</td>\n",
       "      <td>aplicativo muito top</td>\n",
       "      <td>2019-07-21</td>\n",
       "      <td>5</td>\n",
       "      <td>1</td>\n",
       "      <td>0</td>\n",
       "      <td>0</td>\n",
       "      <td>0</td>\n",
       "      <td>0</td>\n",
       "    </tr>\n",
       "    <tr>\n",
       "      <th>4</th>\n",
       "      <td>Banco do Brasil</td>\n",
       "      <td>Fácil e prático</td>\n",
       "      <td>2019-07-21</td>\n",
       "      <td>5</td>\n",
       "      <td>1</td>\n",
       "      <td>0</td>\n",
       "      <td>0</td>\n",
       "      <td>0</td>\n",
       "      <td>0</td>\n",
       "    </tr>\n",
       "  </tbody>\n",
       "</table>\n",
       "</div>"
      ],
      "text/plain": [
       "       Instituição             Comentario       Data  Classificação  \\\n",
       "0  Banco do Brasil  Muito bom ajuda muito 2019-07-21              5   \n",
       "1  Banco do Brasil              excelente 2019-07-21              5   \n",
       "2  Banco do Brasil                    Bom 2019-07-21              5   \n",
       "3  Banco do Brasil   aplicativo muito top 2019-07-21              5   \n",
       "4  Banco do Brasil        Fácil e prático 2019-07-21              5   \n",
       "\n",
       "  Elogio quanto ao app Reclamação quanto ao app Elogio a Instituição  \\\n",
       "0                    1                        0                    0   \n",
       "1                    1                        0                    0   \n",
       "2                    1                        0                    0   \n",
       "3                    1                        0                    0   \n",
       "4                    1                        0                    0   \n",
       "\n",
       "  Reclamação a Instituição Não Classificável  \n",
       "0                        0                 0  \n",
       "1                        0                 0  \n",
       "2                        0                 0  \n",
       "3                        0                 0  \n",
       "4                        0                 0  "
      ]
     },
     "execution_count": 6,
     "metadata": {},
     "output_type": "execute_result"
    }
   ],
   "source": [
    "#Substituindo df:\n",
    "df['Elogio quanto ao app']=df['Elogio quanto ao app'].replace('SIM','1')\n",
    "df['Elogio quanto ao app']=df['Elogio quanto ao app'].replace('NÃO','0')\n",
    "df['Elogio quanto ao app']=df['Elogio quanto ao app'].replace('NAO','0')\n",
    "\n",
    "\n",
    "df['Elogio a Instituição']=df['Elogio a Instituição'].replace('SIM','1')\n",
    "df['Elogio a Instituição']=df['Elogio a Instituição'].replace('NÃO','0')\n",
    "\n",
    "\n",
    "df['Reclamação quanto ao app']=df['Reclamação quanto ao app'].replace('SIM','1')\n",
    "df['Reclamação quanto ao app']=df['Reclamação quanto ao app'].replace('NÃO','0')\n",
    "\n",
    "\n",
    "df['Reclamação a Instituição']=df['Reclamação a Instituição'].replace('SIM','1')\n",
    "df['Reclamação a Instituição']=df['Reclamação a Instituição'].replace('NÃO','0')\n",
    "\n",
    "df['Não Classificável']=df['Não Classificável'].replace('SIM','1')\n",
    "df['Não Classificável']=df['Não Classificável'].replace('NÃO','0')\n",
    "\n",
    "df.head()\n",
    "\n"
   ]
  },
  {
   "cell_type": "code",
   "execution_count": 7,
   "metadata": {},
   "outputs": [
    {
     "name": "stdout",
     "output_type": "stream",
     "text": [
      "<class 'pandas.core.frame.DataFrame'>\n",
      "RangeIndex: 8702 entries, 0 to 8701\n",
      "Data columns (total 9 columns):\n",
      " #   Column                    Non-Null Count  Dtype         \n",
      "---  ------                    --------------  -----         \n",
      " 0   Instituição               8702 non-null   object        \n",
      " 1   Comentario                8698 non-null   object        \n",
      " 2   Data                      8702 non-null   datetime64[ns]\n",
      " 3   Classificação             8702 non-null   int64         \n",
      " 4   Elogio quanto ao app      8702 non-null   object        \n",
      " 5   Reclamação quanto ao app  8702 non-null   object        \n",
      " 6   Elogio a Instituição      8702 non-null   object        \n",
      " 7   Reclamação a Instituição  8702 non-null   object        \n",
      " 8   Não Classificável         8702 non-null   object        \n",
      "dtypes: datetime64[ns](1), int64(1), object(7)\n",
      "memory usage: 612.0+ KB\n"
     ]
    }
   ],
   "source": [
    "df.info()"
   ]
  },
  {
   "cell_type": "code",
   "execution_count": 8,
   "metadata": {},
   "outputs": [
    {
     "name": "stdout",
     "output_type": "stream",
     "text": [
      "<class 'pandas.core.frame.DataFrame'>\n",
      "RangeIndex: 8702 entries, 0 to 8701\n",
      "Data columns (total 9 columns):\n",
      " #   Column                    Non-Null Count  Dtype         \n",
      "---  ------                    --------------  -----         \n",
      " 0   Instituição               8702 non-null   object        \n",
      " 1   Comentario                8698 non-null   object        \n",
      " 2   Data                      8702 non-null   datetime64[ns]\n",
      " 3   Classificação             8702 non-null   int64         \n",
      " 4   Elogio quanto ao app      8702 non-null   int32         \n",
      " 5   Reclamação quanto ao app  8702 non-null   int32         \n",
      " 6   Elogio a Instituição      8702 non-null   int32         \n",
      " 7   Reclamação a Instituição  8702 non-null   int32         \n",
      " 8   Não Classificável         8702 non-null   int32         \n",
      "dtypes: datetime64[ns](1), int32(5), int64(1), object(2)\n",
      "memory usage: 442.0+ KB\n"
     ]
    }
   ],
   "source": [
    "#Converter os df para números:\n",
    "\n",
    "df['Elogio a Instituição']=df['Elogio a Instituição'].astype(int)\n",
    "df['Elogio quanto ao app']=df['Elogio quanto ao app'].astype(int)\n",
    "df['Reclamação quanto ao app']=df['Reclamação quanto ao app'].astype(int)\n",
    "df['Reclamação a Instituição']=df['Reclamação a Instituição'].astype(int)\n",
    "df['Não Classificável']=df['Não Classificável'].astype(int)\n",
    "\n",
    "df.info()"
   ]
  },
  {
   "cell_type": "code",
   "execution_count": 9,
   "metadata": {},
   "outputs": [
    {
     "data": {
      "text/html": [
       "<div>\n",
       "<style scoped>\n",
       "    .dataframe tbody tr th:only-of-type {\n",
       "        vertical-align: middle;\n",
       "    }\n",
       "\n",
       "    .dataframe tbody tr th {\n",
       "        vertical-align: top;\n",
       "    }\n",
       "\n",
       "    .dataframe thead th {\n",
       "        text-align: right;\n",
       "    }\n",
       "</style>\n",
       "<table border=\"1\" class=\"dataframe\">\n",
       "  <thead>\n",
       "    <tr style=\"text-align: right;\">\n",
       "      <th></th>\n",
       "      <th>Instituição</th>\n",
       "      <th>Comentario</th>\n",
       "      <th>Data</th>\n",
       "      <th>Classificação</th>\n",
       "      <th>Elogio quanto ao app</th>\n",
       "      <th>Reclamação quanto ao app</th>\n",
       "      <th>Elogio a Instituição</th>\n",
       "      <th>Reclamação a Instituição</th>\n",
       "      <th>Não Classificável</th>\n",
       "    </tr>\n",
       "  </thead>\n",
       "  <tbody>\n",
       "    <tr>\n",
       "      <th>0</th>\n",
       "      <td>Banco do Brasil</td>\n",
       "      <td>Muito bom ajuda muito</td>\n",
       "      <td>2019-07-21</td>\n",
       "      <td>1</td>\n",
       "      <td>1</td>\n",
       "      <td>0</td>\n",
       "      <td>0</td>\n",
       "      <td>0</td>\n",
       "      <td>0</td>\n",
       "    </tr>\n",
       "    <tr>\n",
       "      <th>1</th>\n",
       "      <td>Banco do Brasil</td>\n",
       "      <td>excelente</td>\n",
       "      <td>2019-07-21</td>\n",
       "      <td>1</td>\n",
       "      <td>1</td>\n",
       "      <td>0</td>\n",
       "      <td>0</td>\n",
       "      <td>0</td>\n",
       "      <td>0</td>\n",
       "    </tr>\n",
       "    <tr>\n",
       "      <th>2</th>\n",
       "      <td>Banco do Brasil</td>\n",
       "      <td>Bom</td>\n",
       "      <td>2019-07-21</td>\n",
       "      <td>1</td>\n",
       "      <td>1</td>\n",
       "      <td>0</td>\n",
       "      <td>0</td>\n",
       "      <td>0</td>\n",
       "      <td>0</td>\n",
       "    </tr>\n",
       "    <tr>\n",
       "      <th>3</th>\n",
       "      <td>Banco do Brasil</td>\n",
       "      <td>aplicativo muito top</td>\n",
       "      <td>2019-07-21</td>\n",
       "      <td>1</td>\n",
       "      <td>1</td>\n",
       "      <td>0</td>\n",
       "      <td>0</td>\n",
       "      <td>0</td>\n",
       "      <td>0</td>\n",
       "    </tr>\n",
       "    <tr>\n",
       "      <th>4</th>\n",
       "      <td>Banco do Brasil</td>\n",
       "      <td>Fácil e prático</td>\n",
       "      <td>2019-07-21</td>\n",
       "      <td>1</td>\n",
       "      <td>1</td>\n",
       "      <td>0</td>\n",
       "      <td>0</td>\n",
       "      <td>0</td>\n",
       "      <td>0</td>\n",
       "    </tr>\n",
       "  </tbody>\n",
       "</table>\n",
       "</div>"
      ],
      "text/plain": [
       "       Instituição             Comentario       Data  Classificação  \\\n",
       "0  Banco do Brasil  Muito bom ajuda muito 2019-07-21              1   \n",
       "1  Banco do Brasil              excelente 2019-07-21              1   \n",
       "2  Banco do Brasil                    Bom 2019-07-21              1   \n",
       "3  Banco do Brasil   aplicativo muito top 2019-07-21              1   \n",
       "4  Banco do Brasil        Fácil e prático 2019-07-21              1   \n",
       "\n",
       "   Elogio quanto ao app  Reclamação quanto ao app  Elogio a Instituição  \\\n",
       "0                     1                         0                     0   \n",
       "1                     1                         0                     0   \n",
       "2                     1                         0                     0   \n",
       "3                     1                         0                     0   \n",
       "4                     1                         0                     0   \n",
       "\n",
       "   Reclamação a Instituição  Não Classificável  \n",
       "0                         0                  0  \n",
       "1                         0                  0  \n",
       "2                         0                  0  \n",
       "3                         0                  0  \n",
       "4                         0                  0  "
      ]
     },
     "execution_count": 9,
     "metadata": {},
     "output_type": "execute_result"
    }
   ],
   "source": [
    "# Classificação\n",
    "\n",
    "df['Classificação'] = df['Classificação'].replace(2,-1)\n",
    "df['Classificação'] = df['Classificação'].replace(1,-1)\n",
    "df['Classificação'] = df['Classificação'].replace(5,1)\n",
    "df['Classificação'] = df['Classificação'].replace(4,1)\n",
    "df['Classificação'] = df['Classificação'].replace(3,0)\n",
    "\n",
    "df.head()"
   ]
  },
  {
   "cell_type": "markdown",
   "metadata": {},
   "source": [
    "4) Faça as seguintes substituições na coluna classificação:  • 2 > -1 ; • 1 > -1 ; • 5 > 1 ; • 4 > 1 ; • 3 > 0\n",
    "\n",
    "\n",
    "for valor in df['Classificação'].to_list():\n",
    "    \n",
    "    if valor == 2 or valor == 1:\n",
    "        de = valor\n",
    "        result = -1\n",
    "    elif valor == 5 or valor == 4:\n",
    "        de = valor\n",
    "        result = 1\n",
    "    elif valor == 3:\n",
    "        de = valor\n",
    "        result = 0\n",
    "\n",
    "    df['Classificação'] = df['Classificação'].replace(de, result)\n",
    "\n",
    "\n"
   ]
  },
  {
   "cell_type": "code",
   "execution_count": 17,
   "metadata": {},
   "outputs": [],
   "source": [
    "#5) Crie um dataframe chamado df_classificacao, para agrupar os dados por  instituição, calculando a média da da coluna Classificação\n",
    "\n",
    "df_classificacao= df.groupby('Instituição')['Classificação'].mean()\n"
   ]
  },
  {
   "cell_type": "code",
   "execution_count": 19,
   "metadata": {},
   "outputs": [
    {
     "data": {
      "text/plain": [
       "<Axes: xlabel='Instituição', ylabel='Classificação'>"
      ]
     },
     "execution_count": 19,
     "metadata": {},
     "output_type": "execute_result"
    },
    {
     "data": {
      "image/png": "[encoded data removed]",
      "text/plain": [
       "<Figure size 640x480 with 1 Axes>"
      ]
     },
     "metadata": {},
     "output_type": "display_data"
    }
   ],
   "source": [
    "#6) Multiplique os valores da coluna Classificação por 100.\n",
    "\n",
    "df_classificacao= df.groupby(['Instituição'])['Classificação'].agg('mean').reset_index()\n",
    "df_classificacao['Classificação']= df_classificacao['Classificação']*100\n",
    "df_classificacao\n",
    "\n",
    "#Criar o gráfico \n",
    "sns.barplot(x=df_classificacao['Instituição'],y=df_classificacao['Classificação'])\n",
    "\n"
   ]
  },
  {
   "cell_type": "code",
   "execution_count": 22,
   "metadata": {},
   "outputs": [
    {
     "data": {
      "text/plain": [
       "<function seaborn.rcmod.set_palette(palette, n_colors=None, desat=None, color_codes=False)>"
      ]
     },
     "execution_count": 22,
     "metadata": {},
     "output_type": "execute_result"
    }
   ],
   "source": [
    "# 7) Carregue a paleta de cores Accent, com o comando sns.set_palette;\n",
    "\n",
    "sns.set_palette"
   ]
  },
  {
   "cell_type": "code",
   "execution_count": 23,
   "metadata": {},
   "outputs": [
    {
     "data": {
      "text/plain": [
       "<function seaborn.rcmod.set_style(style=None, rc=None)>"
      ]
     },
     "execution_count": 23,
     "metadata": {},
     "output_type": "execute_result"
    }
   ],
   "source": [
    "#8) Carregue o estilo darkgrid, utilizando o comando sns.set_style;\n",
    "\n",
    "sns.set_style"
   ]
  },
  {
   "cell_type": "code",
   "execution_count": 40,
   "metadata": {},
   "outputs": [
    {
     "name": "stdout",
     "output_type": "stream",
     "text": [
      "A Maior Média é do Banco do Brasil\n"
     ]
    },
    {
     "data": {
      "image/png": "[encoded data removed]",
      "text/plain": [
       "<Figure size 640x480 with 1 Axes>"
      ]
     },
     "metadata": {},
     "output_type": "display_data"
    }
   ],
   "source": [
    "# Análise do % de elogios e relcamações do app para cada instituição\n",
    "\n",
    "df_elogio= df.groupby(['Instituição'])['Elogio quanto ao app'].agg('mean').reset_index()\n",
    "df_elogio['Elogio quanto ao app']= df_elogio['Elogio quanto ao app']*100\n",
    "df_elogio\n",
    "\n",
    "#Criar o gráfico \n",
    "sns.barplot(x=df_elogio['Instituição'],y=df_elogio['Elogio quanto ao app'])\n",
    "plt.xticks(fontsize =6)\n",
    "\n",
    "print( 'A Maior Média é do Banco do Brasil')\n",
    "\n",
    "\n",
    "\n"
   ]
  },
  {
   "cell_type": "code",
   "execution_count": null,
   "metadata": {},
   "outputs": [],
   "source": []
  }
 ],
 "metadata": {
  "kernelspec": {
   "display_name": "Python 3",
   "language": "python",
   "name": "python3"
  },
  "language_info": {
   "codemirror_mode": {
    "name": "ipython",
    "version": 3
   },
   "file_extension": ".py",
   "mimetype": "text/x-python",
   "name": "python",
   "nbconvert_exporter": "python",
   "pygments_lexer": "ipython3",
   "version": "3.11.0"
  }
 },
 "nbformat": 4,
 "nbformat_minor": 2
}
