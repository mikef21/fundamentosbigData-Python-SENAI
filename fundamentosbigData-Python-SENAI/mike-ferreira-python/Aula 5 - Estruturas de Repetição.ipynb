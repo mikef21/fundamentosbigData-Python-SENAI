{
 "cells": [
  {
   "cell_type": "markdown",
   "metadata": {},
   "source": [
    "### FOR ACUMULADORA"
   ]
  },
  {
   "cell_type": "code",
   "execution_count": 4,
   "metadata": {},
   "outputs": [
    {
     "name": "stdout",
     "output_type": "stream",
     "text": [
      "1\n",
      "3\n",
      "6\n",
      "10\n",
      "15\n",
      "21\n",
      "28\n",
      "36\n",
      "45\n",
      "55\n"
     ]
    }
   ],
   "source": [
    "listaNumeros = [1,2,3,4,5,6,7,8,9,10]\n",
    "\n",
    "soma = 0 # Vaiavel acumuladora\n",
    "\n",
    "for numero in listaNumeros:\n",
    "\n",
    "    soma = soma + numero\n",
    "\n",
    "    print (soma)"
   ]
  },
  {
   "cell_type": "markdown",
   "metadata": {},
   "source": [
    "Exercício 06 - Faça um programa que imprima na tela os números de 1 a 20, um abaixo\n",
    "do outro. Depois modifique o programa para que ele mostre os números um ao lado do\n",
    "outro."
   ]
  },
  {
   "cell_type": "code",
   "execution_count": 44,
   "metadata": {},
   "outputs": [
    {
     "name": "stdout",
     "output_type": "stream",
     "text": [
      "1\n",
      "2\n",
      "3\n",
      "4\n",
      "5\n",
      "6\n",
      "7\n",
      "8\n",
      "9\n",
      "10\n",
      "11\n",
      "12\n",
      "13\n",
      "14\n",
      "15\n",
      "16\n",
      "17\n",
      "18\n",
      "19\n",
      "20\n",
      "[1, 2, 3, 4, 5, 6, 7, 8, 9, 10, 11, 12, 13, 14, 15, 16, 17, 18, 19, 20]\n"
     ]
    }
   ],
   "source": [
    "listaNumeros = range(1,21)\n",
    "\n",
    "for x in listaNumeros:\n",
    "\n",
    "    print (x)\n",
    "\n",
    "\n",
    "listaNumeros = range(1,21)\n",
    "\n",
    "#criar uma lista vazia\n",
    "\n",
    "lista = []\n",
    "\n",
    "for x in listaNumeros:\n",
    "\n",
    "    #adicionar novos elementos a lista \n",
    "\n",
    "    lista.append(x)\n",
    "\n",
    "print (lista)\n"
   ]
  },
  {
   "cell_type": "markdown",
   "metadata": {},
   "source": [
    "Exercício 07 - Faça um programa que leia 5 números e informe o maior número."
   ]
  },
  {
   "cell_type": "code",
   "execution_count": 59,
   "metadata": {},
   "outputs": [
    {
     "name": "stdout",
     "output_type": "stream",
     "text": [
      "[6.0, 8.0, 9.0, 4.0, 5.0]\n"
     ]
    },
    {
     "data": {
      "text/plain": [
       "9.0"
      ]
     },
     "execution_count": 59,
     "metadata": {},
     "output_type": "execute_result"
    }
   ],
   "source": [
    "#intervalos\n",
    "listaControle = range (1,6)\n",
    "\n",
    "#lista vazia\n",
    "numeros=[]\n",
    "for i in listaControle:\n",
    "    num = float(input('Informe um numero'))\n",
    "    numeros.append(num)\n",
    "\n",
    "print(numeros)\n",
    "max(numeros)\n",
    "\n",
    "\n"
   ]
  },
  {
   "cell_type": "markdown",
   "metadata": {},
   "source": [
    "Exercício 08 - Faça um programa que leia 5 números e informe a soma e a média dos\n",
    "números."
   ]
  },
  {
   "cell_type": "code",
   "execution_count": 65,
   "metadata": {},
   "outputs": [
    {
     "name": "stdout",
     "output_type": "stream",
     "text": [
      "[1.0, 2.0, 3.0, 4.0, 5.0]\n",
      "15.0\n",
      "3.0\n"
     ]
    }
   ],
   "source": [
    "#intervalos\n",
    "listaControle = range (1,6)\n",
    "\n",
    "#lista vazia\n",
    "numeros=[]\n",
    "\n",
    "#repetição\n",
    "\n",
    "for i in listaControle:\n",
    "    nota = float(input(f'Informe o {i}º numero'))\n",
    "    numeros.append(nota)\n",
    "\n",
    "print(numeros)  \n",
    "\n",
    "\n",
    "#soma\n",
    "soma = sum(numeros)\n",
    "\n",
    "#quantidade \n",
    "quant = len(numeros)\n",
    "\n",
    "#media\n",
    "media =  soma/quant\n",
    "\n",
    "\n",
    "print (soma)\n",
    "\n",
    "print (media)\n",
    "\n"
   ]
  },
  {
   "cell_type": "markdown",
   "metadata": {},
   "source": [
    "Exercício 09 - Faça um programa que imprima na tela apenas os números ímpares\n",
    "entre 1 e 50."
   ]
  },
  {
   "cell_type": "code",
   "execution_count": 77,
   "metadata": {},
   "outputs": [
    {
     "name": "stdout",
     "output_type": "stream",
     "text": [
      "1\n",
      "3\n",
      "5\n",
      "7\n",
      "9\n",
      "11\n",
      "13\n",
      "15\n",
      "17\n",
      "19\n",
      "21\n",
      "23\n",
      "25\n",
      "27\n",
      "29\n",
      "31\n",
      "33\n",
      "35\n",
      "37\n",
      "39\n",
      "41\n",
      "43\n",
      "45\n",
      "47\n",
      "49\n"
     ]
    }
   ],
   "source": [
    "#gerar valores\n",
    "numeros = range(1,51)\n",
    "\n",
    "#soluçao\n",
    "\n",
    "for w in numeros:\n",
    "\n",
    "    if w % 2 != 0: \n",
    "        # se o resto for diferente de 0 o numero é impar\n",
    "        print(w)\n",
    "\n",
    "\n",
    "    "
   ]
  },
  {
   "cell_type": "markdown",
   "metadata": {},
   "source": [
    "Exercício 10 - Faça um programa que receba dois números inteiros e gere os números\n",
    "inteiros que estão no intervalo compreendido por eles."
   ]
  },
  {
   "cell_type": "code",
   "execution_count": 84,
   "metadata": {},
   "outputs": [
    {
     "name": "stdout",
     "output_type": "stream",
     "text": [
      "10\n",
      "11\n",
      "12\n",
      "13\n",
      "14\n",
      "15\n",
      "16\n",
      "17\n",
      "18\n",
      "19\n",
      "20\n",
      "21\n",
      "22\n",
      "23\n",
      "24\n",
      "25\n",
      "26\n",
      "27\n",
      "28\n",
      "29\n",
      "30\n"
     ]
    }
   ],
   "source": [
    "valorinicial = int(input(\"insira o valor inicial\"))\n",
    "valorfinal = int(input(\"insira o valor final\"))\n",
    "\n",
    "numeros = range(valorinicial,valorfinal+1)\n",
    "\n",
    "for x in numeros:\n",
    "    print(x)\n",
    "\n",
    "\n"
   ]
  },
  {
   "cell_type": "markdown",
   "metadata": {},
   "source": [
    "Exercício 11 - Altere o programa anterior para mostrar no final a soma dos números."
   ]
  },
  {
   "cell_type": "code",
   "execution_count": 87,
   "metadata": {},
   "outputs": [
    {
     "name": "stdout",
     "output_type": "stream",
     "text": [
      "1\n",
      "2\n",
      "3\n",
      "4\n",
      "5\n",
      "15\n"
     ]
    }
   ],
   "source": [
    "#SOlução\n",
    "\n",
    "valorinicial = int(input(\"insira o valor inicial\"))\n",
    "valorfinal = int(input(\"insira o valor final\"))\n",
    "\n",
    "numeros = range(valorinicial,valorfinal+1)\n",
    "\n",
    "for x in numeros:\n",
    "    print(x)\n",
    "\n",
    "soma = sum(numeros)\n",
    "print(soma)"
   ]
  },
  {
   "cell_type": "code",
   "execution_count": 109,
   "metadata": {},
   "outputs": [
    {
     "name": "stdout",
     "output_type": "stream",
     "text": [
      "Valor da variavel X = 1\n",
      "Valor da variavel SOMA = 1\n",
      "Valor da variavel X = 2\n",
      "Valor da variavel SOMA = 3\n"
     ]
    }
   ],
   "source": [
    "#solução professor\n",
    "\n",
    "valorinicial = int(input(\"insira o valor inicial\"))\n",
    "valorfinal = int(input(\"insira o valor final\"))\n",
    "\n",
    "numeros = range(valorinicial,valorfinal+1)\n",
    "\n",
    "soma = 0\n",
    "\n",
    "for x in numeros:\n",
    "\n",
    "    soma+= x\n",
    "\n",
    "    print ('Valor da variavel X =',x)\n",
    "    print('Valor da variavel SOMA =',soma)"
   ]
  },
  {
   "cell_type": "markdown",
   "metadata": {},
   "source": [
    "Exercício 12 - Desenvolva um gerador de tabuada, capaz de gerar a tabuada de\n",
    "qualquer número inteiro entre 1 a 10. O usuário deve informar de qual numero ele deseja\n",
    "ver a tabuada. A saída deve ser conforme o exemplo abaixo:"
   ]
  },
  {
   "cell_type": "code",
   "execution_count": 145,
   "metadata": {},
   "outputs": [
    {
     "name": "stdout",
     "output_type": "stream",
     "text": [
      "10 x 1 = 10\n",
      "10 x 2 = 20\n",
      "10 x 3 = 30\n",
      "10 x 4 = 40\n",
      "10 x 5 = 50\n",
      "10 x 6 = 60\n",
      "10 x 7 = 70\n",
      "10 x 8 = 80\n",
      "10 x 9 = 90\n",
      "10 x 10 = 100\n"
     ]
    }
   ],
   "source": [
    "numero = int(input(\"escolha um valor\"))\n",
    "\n",
    "numeros1a10 = range(1,11)\n",
    "\n",
    "if (numero>10):\n",
    "        print(\"valor invalido\")\n",
    "\n",
    "else:\n",
    "        for i in numeros1a10:\n",
    "             print((f\"{numero} x {i} = {numero*i}\"))\n",
    "        \n"
   ]
  },
  {
   "cell_type": "markdown",
   "metadata": {},
   "source": [
    "Exercício 13 - Faça um programa que peça dois números, base e expoente, calcule e\n",
    "mostre o primeiro número elevado ao segundo número. Não utilize a função de potência\n",
    "da linguagem."
   ]
  },
  {
   "cell_type": "code",
   "execution_count": 137,
   "metadata": {},
   "outputs": [
    {
     "ename": "SyntaxError",
     "evalue": "invalid syntax (863552504.py, line 8)",
     "output_type": "error",
     "traceback": [
      "\u001b[1;36m  Cell \u001b[1;32mIn[137], line 8\u001b[1;36m\u001b[0m\n\u001b[1;33m    intervalo = range[1,expoente]:\u001b[0m\n\u001b[1;37m                                 ^\u001b[0m\n\u001b[1;31mSyntaxError\u001b[0m\u001b[1;31m:\u001b[0m invalid syntax\n"
     ]
    }
   ],
   "source": [
    "base = int(input(\"Insira o valor da base\"))\n",
    "exp = int(input(\"insira o expoente\"))\n",
    "\n",
    "expoente = exp+1\n",
    "print (expoente)\n",
    "\n",
    "intervalo = range(1,expoente):\n",
    "\n",
    "for i in intervalo\n",
    "    print(i*base)\n",
    "\n",
    "\n"
   ]
  },
  {
   "cell_type": "markdown",
   "metadata": {},
   "source": [
    "### LOOP WHILE"
   ]
  },
  {
   "cell_type": "markdown",
   "metadata": {},
   "source": [
    "A estrutura de repetição while é utilizada quando precisamos repetir uma ação algumas vezes ou fazer uma iteração até que uma condição seja satisfeita"
   ]
  },
  {
   "cell_type": "code",
   "execution_count": 148,
   "metadata": {},
   "outputs": [
    {
     "name": "stdout",
     "output_type": "stream",
     "text": [
      "2\n",
      "3\n",
      "4\n",
      "5\n",
      "6\n",
      "7\n",
      "8\n",
      "9\n",
      "10\n",
      "11\n"
     ]
    }
   ],
   "source": [
    "i = 1                   #variavel de controle\n",
    "soma = 0                #variavel acumuladora\n",
    "\n",
    "while i <=10:\n",
    "    soma +=1\n",
    "    i +=1\n",
    "    print (i)"
   ]
  }
 ],
 "metadata": {
  "kernelspec": {
   "display_name": "Python 3",
   "language": "python",
   "name": "python3"
  },
  "language_info": {
   "codemirror_mode": {
    "name": "ipython",
    "version": 3
   },
   "file_extension": ".py",
   "mimetype": "text/x-python",
   "name": "python",
   "nbconvert_exporter": "python",
   "pygments_lexer": "ipython3",
   "version": "3.11.0"
  }
 },
 "nbformat": 4,
 "nbformat_minor": 2
}
