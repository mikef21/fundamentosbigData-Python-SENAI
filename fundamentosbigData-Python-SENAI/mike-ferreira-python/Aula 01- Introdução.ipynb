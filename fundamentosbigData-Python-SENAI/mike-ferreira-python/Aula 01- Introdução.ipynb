{
 "cells": [
  {
   "cell_type": "markdown",
   "metadata": {},
   "source": [
    "# Criando uma mensagem no console\n",
    "\n",
    "Markdown é um texto que não é reconhecido pela linguagem"
   ]
  },
  {
   "cell_type": "code",
   "execution_count": 3,
   "metadata": {},
   "outputs": [
    {
     "name": "stdout",
     "output_type": "stream",
     "text": [
      "Hello, Baby!\n"
     ]
    }
   ],
   "source": [
    "print('Hello, Baby!')"
   ]
  },
  {
   "cell_type": "markdown",
   "metadata": {},
   "source": [
    "Exercício 01 – Crie um programa para receber dois valores e em seguida, exiba o valor\n",
    "da soma."
   ]
  },
  {
   "cell_type": "code",
   "execution_count": 4,
   "metadata": {},
   "outputs": [
    {
     "name": "stdout",
     "output_type": "stream",
     "text": [
      "31\n"
     ]
    }
   ],
   "source": [
    "# Criando as variaveis e atribuindo valores a elas \n",
    "\n",
    "num1 = 20\n",
    "num2 = 5\n",
    "num3 = 6\n",
    "\n",
    "# Somando os valores das 3 variaveis criadas\n",
    "\n",
    "soma = num1 + num2 + num3\n",
    "\n",
    "print(soma)"
   ]
  },
  {
   "cell_type": "markdown",
   "metadata": {},
   "source": [
    "Exercício 10 - Faça um Programa que converta metros para centímetros."
   ]
  },
  {
   "cell_type": "code",
   "execution_count": 18,
   "metadata": {},
   "outputs": [
    {
     "name": "stdout",
     "output_type": "stream",
     "text": [
      "100\n"
     ]
    }
   ],
   "source": [
    "metros = input (\"digite um valor em metros\")\n",
    "metros = int(metros)\n",
    "conversao = 100\n",
    "\n",
    "multiplicação = metros * conversao\n",
    "\n",
    "type (metros)\n",
    "\n",
    "print (multiplicação)\n",
    "\n"
   ]
  },
  {
   "cell_type": "markdown",
   "metadata": {},
   "source": [
    "Exercício 11 - Faça um Programa que peça o raio de um círculo, calcule e mostre sua\n",
    "área."
   ]
  },
  {
   "cell_type": "code",
   "execution_count": 34,
   "metadata": {},
   "outputs": [
    {
     "name": "stdout",
     "output_type": "stream",
     "text": [
      "o circulo com raio de 5 m, tem uma area de 78.53981633974483 m²\n"
     ]
    }
   ],
   "source": [
    "# Carregar a biblioteca para utilizar o valor do PI completo\n",
    "\n",
    "import numpy as np\n",
    "\n",
    "raio = input(\"digite o raio\")\n",
    "raio = int(raio)\n",
    "pi = np.pi\n",
    "\n",
    "area = pi * raio ** 2\n",
    "\n",
    "print (f\"o circulo com raio de {raio} m, tem uma area de {area} m²\")\n"
   ]
  },
  {
   "cell_type": "markdown",
   "metadata": {},
   "source": [
    "Exercício 12 - Faça um Programa que calcule a área de um quadrado, em seguida\n",
    "mostre o dobro desta área para o usuário."
   ]
  },
  {
   "cell_type": "code",
   "execution_count": 20,
   "metadata": {},
   "outputs": [
    {
     "name": "stdout",
     "output_type": "stream",
     "text": [
      "4\n"
     ]
    }
   ],
   "source": [
    "lado1 = input (\"digite o primeiro valor\")\n",
    "lado2 = input (\"digite o segundo valor\")\n",
    "\n",
    "lado1 = int(lado1)\n",
    "lado2 = int(lado2)\n",
    "\n",
    "area = lado1 * lado2\n",
    "dobrodaarea = area * 2\n",
    "\n",
    "print(dobrodaarea)"
   ]
  },
  {
   "cell_type": "markdown",
   "metadata": {},
   "source": [
    "Exercício 13 - Faça um Programa que pergunte quanto você ganha por hora e o número\n",
    "de horas trabalhadas no mês. Calcule e mostre o total do seu salário no referido mês."
   ]
  },
  {
   "cell_type": "code",
   "execution_count": 21,
   "metadata": {},
   "outputs": [
    {
     "name": "stdout",
     "output_type": "stream",
     "text": [
      "2200.0\n"
     ]
    }
   ],
   "source": [
    "salariohora = input (\"digite o valor do seu salario\")\n",
    "horastrabalhadas = input (\"digite sua quantidade de horas trabalhadas\")\n",
    "\n",
    "salariohora = float (salariohora)\n",
    "horastrabalhadas = float (horastrabalhadas)\n",
    "\n",
    "salariototal = salariohora * horastrabalhadas\n",
    "\n",
    "print(salariototal)\n"
   ]
  },
  {
   "cell_type": "markdown",
   "metadata": {},
   "source": [
    "Exercício 14 - Faça um Programa que peça a temperatura em graus Fahrenheit,\n",
    "transforme e mostre a temperatura em graus Celsius."
   ]
  },
  {
   "cell_type": "code",
   "execution_count": 25,
   "metadata": {},
   "outputs": [
    {
     "name": "stdout",
     "output_type": "stream",
     "text": [
      "0.0\n"
     ]
    }
   ],
   "source": [
    "temperaturaf = input (\"digite a temperatura em graus fahrenheit\")\n",
    "temperaturaf = float (temperaturaf)\n",
    "\n",
    "temperaturac = (temperaturaf - 32) / 1.8\n",
    "\n",
    "print(temperaturac)"
   ]
  },
  {
   "cell_type": "markdown",
   "metadata": {},
   "source": [
    "Exercício 15 - Faça um Programa que peça a temperatura em graus Celsius, transforme\n",
    "e mostre em graus Fahrenheit.\n",
    "\n"
   ]
  },
  {
   "cell_type": "code",
   "execution_count": 26,
   "metadata": {},
   "outputs": [
    {
     "name": "stdout",
     "output_type": "stream",
     "text": [
      "32.0\n"
     ]
    }
   ],
   "source": [
    "tcelsius = input (\"digite a temperatura em graus celsius\")\n",
    "tcelsius = float (tcelsius)\n",
    "\n",
    "tfah = tcelsius * 1.8 + 32\n",
    "\n",
    "print (tfah)"
   ]
  }
 ],
 "metadata": {
  "kernelspec": {
   "display_name": "Python 3",
   "language": "python",
   "name": "python3"
  },
  "language_info": {
   "codemirror_mode": {
    "name": "ipython",
    "version": 3
   },
   "file_extension": ".py",
   "mimetype": "text/x-python",
   "name": "python",
   "nbconvert_exporter": "python",
   "pygments_lexer": "ipython3",
   "version": "3.11.0"
  }
 },
 "nbformat": 4,
 "nbformat_minor": 2
}
