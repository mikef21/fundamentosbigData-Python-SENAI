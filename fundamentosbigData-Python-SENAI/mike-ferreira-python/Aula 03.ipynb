{
 "cells": [
  {
   "cell_type": "markdown",
   "metadata": {},
   "source": [
    "Exercício 04 - Crie uma variável chamada \"idade\" e atribua um valor inteiro a ela.\n",
    "Verifique se a idade está dentro do intervalo de 18 a 30 (inclusive) e imprima a\n",
    "mensagem \"Idade válida\" ou \"Idade inválida\" de acordo com a condição."
   ]
  },
  {
   "cell_type": "code",
   "execution_count": 23,
   "metadata": {},
   "outputs": [
    {
     "name": "stdout",
     "output_type": "stream",
     "text": [
      "Idade Válida!\n"
     ]
    }
   ],
   "source": [
    "idade = int(input(\"Indique a sua idade!\"))\n",
    "\n",
    "if  idade>=18 and idade<=30:\n",
    "\n",
    "    print(\"Idade Válida!\")\n",
    "else:\n",
    "    print(\"Idade inválida!\")\n",
    "\n"
   ]
  },
  {
   "cell_type": "markdown",
   "metadata": {},
   "source": [
    "Exercício 05 - Crie uma variável chamada \"numero\" e atribua um valor inteiro a ela.\n",
    "Verifique se o número é par ou ímpar e imprima a mensagem correspondente."
   ]
  },
  {
   "cell_type": "code",
   "execution_count": 17,
   "metadata": {},
   "outputs": [
    {
     "name": "stdout",
     "output_type": "stream",
     "text": [
      "O número que você digitou é par\n"
     ]
    }
   ],
   "source": [
    "numero = int(input(\"Digite um valor inteiro\"))\n",
    "\n",
    "resto = numero%2\n",
    "\n",
    "if  resto==1:\n",
    "    print (\"O número que você digitou é impar\")\n",
    "else:\n",
    "    print(\"O número que você digitou é par\")\n",
    "\n"
   ]
  },
  {
   "cell_type": "markdown",
   "metadata": {},
   "source": [
    "Exercício 06 - Crie uma variável chamada \"horario\" e atribua um valor inteiro\n",
    "representando a hora do dia (em formato 24 horas). Verifique se o horário está dentro\n",
    "do período da manhã (das 6h às 12h), da tarde (das 12h às 18h) ou da noite (das 18h\n",
    "às 23h) e imprima a mensagem correspondente."
   ]
  },
  {
   "cell_type": "code",
   "execution_count": 57,
   "metadata": {},
   "outputs": [
    {
     "name": "stdout",
     "output_type": "stream",
     "text": [
      "Periodo da Manhã\n"
     ]
    }
   ],
   "source": [
    "horario=int(input(\"Informe um horário\"))\n",
    "\n",
    "if horario >=6 and horario<12:\n",
    "    print (\"Periodo da Manhã\")\n",
    "\n",
    "elif horario >=12 and horario<18:\n",
    "    print (\"Periodo da Tarde\")\n",
    "\n",
    "elif horario >=18 and horario<23:\n",
    "    print (\"Periodo da Noite\")\n",
    "\n",
    "else:\n",
    "    print(\"Horário Invalio!\")\n"
   ]
  },
  {
   "cell_type": "markdown",
   "metadata": {},
   "source": [
    "Exercício 07 - Crie uma variável chamada \"peso\" e atribua um valor numérico a ela.\n",
    "Verifique se o peso está dentro do intervalo de 50 a 100 (inclusive) e imprima a\n",
    "mensagem \"Peso válido\" ou \"Peso inválido\" de acordo com a condição."
   ]
  },
  {
   "cell_type": "code",
   "execution_count": 25,
   "metadata": {},
   "outputs": [
    {
     "name": "stdout",
     "output_type": "stream",
     "text": [
      "Peso Válido!\n"
     ]
    }
   ],
   "source": [
    "peso=float(input(\"Informe um valor\"))\n",
    "\n",
    "if  peso>=50 and idade<=100:\n",
    "\n",
    "    print(\"Peso Válido!\")\n",
    "else:\n",
    "    print(\"Peso inválido!\")\n"
   ]
  },
  {
   "cell_type": "markdown",
   "metadata": {},
   "source": [
    "Exercício 08 - Crie uma variável chamada \"numero\" e atribua um valor inteiro a ela.\n",
    "Verifique se o número é múltiplo de 3 e de 5 ao mesmo tempo e imprima a mensagem\n",
    "correspondente."
   ]
  },
  {
   "cell_type": "code",
   "execution_count": 40,
   "metadata": {},
   "outputs": [
    {
     "name": "stdout",
     "output_type": "stream",
     "text": [
      "O valor não é divisivel por 3 e 5\n"
     ]
    }
   ],
   "source": [
    "# Variaveis\n",
    "\n",
    "numero=float(input(\"Informe um valor\"))\n",
    "divisao3=numero%3\n",
    "divisao5=numero%5\n",
    "\n",
    "#Condições\n",
    "\n",
    "if  divisao3==0 and divisao5==0:\n",
    "\n",
    "    print(\"O valor é divisivel por 3 e 5\")\n",
    "else:\n",
    "    print(\"O valor não é divisivel por 3 e 5\")\n"
   ]
  },
  {
   "cell_type": "markdown",
   "metadata": {},
   "source": [
    "Exercício 09 - Crie uma variável chamada \"ano\" e atribua um valor inteiro\n",
    "representando um ano. Verifique se o ano é bissexto (divisível por 4, mas não por 100,\n",
    "exceto se for divisível por 400) e imprima a mensagem correspondente."
   ]
  },
  {
   "cell_type": "code",
   "execution_count": 147,
   "metadata": {},
   "outputs": [
    {
     "name": "stdout",
     "output_type": "stream",
     "text": [
      "Esse é um ano bissexto!\n"
     ]
    }
   ],
   "source": [
    "ano=int(input(\"Insira um valor para o ano\"))\n",
    "\n",
    "#Verificação 1 É divisivel por 4?\n",
    "ver1=ano%4\n",
    "\n",
    "#Verificação 2 É divisivel por 100?\n",
    "ver2=ano%100\n",
    "\n",
    "#Verificação 3 É divisivel por 400?\n",
    "ver3=ano%400\n",
    "\n",
    "#Resolução\n",
    "\n",
    "if ver1==0 and ver2!=0 or ver3==0:\n",
    "    print(\"Esse é um ano bissexto!\")\n",
    "else:\n",
    "    print(\"Esse não é um ano bissexto!\")"
   ]
  },
  {
   "cell_type": "markdown",
   "metadata": {},
   "source": [
    "Exercício 10 - Crie uma variável chamada \"salario\" e atribua um valor numérico a ela.\n",
    "Verifique se o salário é maior do que 1000 e menor do que 2000 ao mesmo tempo e\n",
    "imprima a mensagem correspondente."
   ]
  },
  {
   "cell_type": "code",
   "execution_count": 75,
   "metadata": {},
   "outputs": [
    {
     "name": "stdout",
     "output_type": "stream",
     "text": [
      "Seu salario não está entre 1000 e 2000\n"
     ]
    }
   ],
   "source": [
    "salario = int(input(\"Insira o seu salario\"))\n",
    "\n",
    "if  salario=>1000 and salario<=2000:\n",
    "    print(\"Seu salario está entre 1000 e 2000\")\n",
    "else:\n",
    "    print(\"Seu salario não está entre 1000 e 2000\")"
   ]
  },
  {
   "cell_type": "markdown",
   "metadata": {},
   "source": [
    "Exercício 11 - Faça um Programa que peça dois números e imprima o maior deles."
   ]
  },
  {
   "cell_type": "code",
   "execution_count": 82,
   "metadata": {},
   "outputs": [
    {
     "name": "stdout",
     "output_type": "stream",
     "text": [
      "2\n"
     ]
    }
   ],
   "source": [
    "numero1= int(input(\"Insira um numero\"))\n",
    "numero2= int(input(\"Insira outro numero\"))\n",
    "\n",
    "if numero1>numero2:\n",
    "    print(numero1)\n",
    "else:\n",
    "    print(numero2)"
   ]
  },
  {
   "cell_type": "markdown",
   "metadata": {},
   "source": [
    "Exercício 12 - Faça um Programa que peça um valor e mostre na tela se o valor é\n",
    "positivo ou negativo."
   ]
  },
  {
   "cell_type": "code",
   "execution_count": 85,
   "metadata": {},
   "outputs": [
    {
     "name": "stdout",
     "output_type": "stream",
     "text": [
      "O valor é 0\n"
     ]
    }
   ],
   "source": [
    "numero1= int(input(\"Insira um numero\"))\n",
    "\n",
    "if numero1>0:\n",
    "    print(\"O valor é possitivo\")\n",
    "\n",
    "elif numero1<0:\n",
    "    print(\"O valor é negativo\")\n",
    "else:\n",
    "    print(\"O valor é 0\")"
   ]
  },
  {
   "cell_type": "markdown",
   "metadata": {},
   "source": [
    "Exercício 13 - Faça um Programa que verifique se uma letra digitada é \"F\" ou \"M\".\n",
    "Conforme a letra escrever: F - Feminino, M - Masculino, Sexo Inválido."
   ]
  },
  {
   "cell_type": "code",
   "execution_count": 101,
   "metadata": {},
   "outputs": [
    {
     "name": "stdout",
     "output_type": "stream",
     "text": [
      "Sexo inválido\n"
     ]
    }
   ],
   "source": [
    "sigla= str(input(\"Digite F para Feminino e M para Masculino\"))\n",
    "\n",
    "if sigla==\"F\" or sigla==\"f\":\n",
    "    print(\"Feminino\")\n",
    "\n",
    "elif sigla==\"M\" or sigla==\"m\":\n",
    "    print(\"Masculino\")\n",
    "else:\n",
    "    print(\"Sexo inválido\")"
   ]
  },
  {
   "cell_type": "markdown",
   "metadata": {},
   "source": [
    "Exercício 14 - Faça um Programa que verifique se uma letra digitada é vogal ou\n",
    "consoante."
   ]
  },
  {
   "cell_type": "code",
   "execution_count": 127,
   "metadata": {},
   "outputs": [
    {
     "name": "stdout",
     "output_type": "stream",
     "text": [
      "Consoante\n"
     ]
    }
   ],
   "source": [
    "letra=str(input(\"Digite uma letra minuscula\"))\n",
    "\n",
    "if  letra == \"a\" or letra == \"e\" or letra == \"i\" or letra == \"o\" or letra == \"u\":\n",
    "    print(\"Vogal\")\n",
    "else:\n",
    "    print(\"Consoante\")"
   ]
  },
  {
   "cell_type": "markdown",
   "metadata": {},
   "source": [
    "Exercício 15 - Faça um programa para a leitura de duas notas parciais de um aluno. O\n",
    "programa deve calcular a média alcançada por aluno e apresentar:\n",
    "• A mensagem \"Aprovado\", se a média alcançada for maior ou igual a sete;\n",
    "• A mensagem \"Reprovado\", se a média for menor do que sete;\n",
    "• A mensagem \"Aprovado com Distinção\", se a média for igual a dez."
   ]
  },
  {
   "cell_type": "code",
   "execution_count": 106,
   "metadata": {},
   "outputs": [
    {
     "name": "stdout",
     "output_type": "stream",
     "text": [
      "Você foi reprovado!\n"
     ]
    }
   ],
   "source": [
    "nota1=float(input(\"Informe a sua primeira nota\"))\n",
    "nota2=float(input(\"Informe a sua segunda nota\"))\n",
    "media=(nota1+nota2)/2\n",
    "\n",
    "if media>7 and media<10:\n",
    "    print(\"Você foi aprovado!\")\n",
    "\n",
    "elif media==10:\n",
    "        print(\"Aprovado com distinção\")\n",
    "else:\n",
    "    print(\"Você foi reprovado!\")"
   ]
  },
  {
   "cell_type": "markdown",
   "metadata": {},
   "source": [
    "Exercício 16 - Faça um Programa que leia três números e mostre o maior deles."
   ]
  },
  {
   "cell_type": "code",
   "execution_count": 114,
   "metadata": {},
   "outputs": [
    {
     "name": "stdout",
     "output_type": "stream",
     "text": [
      "O maior numero é o primeiro informado: 2\n"
     ]
    }
   ],
   "source": [
    "numero1= int(input(\"Insira um numero\"))\n",
    "numero2= int(input(\"Insira outro numero\"))\n",
    "numero3= int(input(\"Insira um terceiro numero\"))\n",
    "\n",
    "if numero1>numero2 and numero1>numero3:\n",
    "    print(f\"O maior numero é o primeiro informado: {numero1}\")\n",
    "\n",
    "elif numero2>numero1 and numero2>numero3:\n",
    "    print(f\"O maior numero é o segundo informado: {numero2}\")\n",
    "else:\n",
    "    print(f\"O maior numero é o terceiro informado: {numero3}\")"
   ]
  },
  {
   "cell_type": "markdown",
   "metadata": {},
   "source": [
    "Exercício 17 - Faça um Programa que leia três números e mostre o maior e o menor\n",
    "deles."
   ]
  },
  {
   "cell_type": "code",
   "execution_count": 115,
   "metadata": {},
   "outputs": [
    {
     "name": "stdout",
     "output_type": "stream",
     "text": [
      "O maior numero é o terceiro informado: 3\n",
      "O menor numero é o primeiro informado: 1\n"
     ]
    }
   ],
   "source": [
    "numero1= int(input(\"Insira um numero\"))\n",
    "numero2= int(input(\"Insira outro numero\"))\n",
    "numero3= int(input(\"Insira um terceiro numero\"))\n",
    "\n",
    "\n",
    "#Solução maior numero\n",
    "\n",
    "if numero1>numero2 and numero1>numero3:\n",
    "    print(f\"O maior numero é o primeiro informado: {numero1}\")\n",
    "\n",
    "elif numero2>numero1 and numero2>numero3:\n",
    "    print(f\"O maior numero é o segundo informado: {numero2}\")\n",
    "else:\n",
    "    print(f\"O maior numero é o terceiro informado: {numero3}\")\n",
    "\n",
    "\n",
    "#Solução menor numero\n",
    "if numero1<numero2 and numero1<numero3:\n",
    "    print(f\"O menor numero é o primeiro informado: {numero1}\")\n",
    "\n",
    "elif numero2<numero1 and numero2<numero3:\n",
    "    print(f\"O menor numero é o segundo informado: {numero2}\")\n",
    "else:\n",
    "    print(f\"O menor numero é o terceiro informado: {numero3}\")\n",
    "\n",
    "\n"
   ]
  },
  {
   "cell_type": "markdown",
   "metadata": {},
   "source": [
    "Exercício 18 - Faça um programa que pergunte o preço de três produtos e informe qual\n",
    "produto você deve comprar, sabendo que a decisão é sempre pelo mais barato."
   ]
  },
  {
   "cell_type": "code",
   "execution_count": 119,
   "metadata": {},
   "outputs": [
    {
     "name": "stdout",
     "output_type": "stream",
     "text": [
      "Você deve comprar o terceiro produto informado: 9\n"
     ]
    }
   ],
   "source": [
    "produto1= int(input(\"insira o valor do produto 1\"))\n",
    "produto2= int(input(\"insira o valor do produto 2\"))\n",
    "produto3= int(input(\"insira o valor do produto 3\"))\n",
    "\n",
    "#Solução menor numero\n",
    "if produto1<produto2 and produto1<produto3:\n",
    "    print(f\"Você deve comprar o primeiro produto informado: R${produto1}\")\n",
    "\n",
    "elif produto2<produto1 and produto2<produto3:\n",
    "    print(f\"Você deve comprar o segundo produto informado: R$ {produto2}\")\n",
    "else:\n",
    "    print(f\"Você deve comprar o terceiro produto informado: R$ {produto3}\")\n"
   ]
  },
  {
   "cell_type": "markdown",
   "metadata": {},
   "source": [
    "Exercício 19 - Faça um Programa que leia três números e mostre-os em ordem\n",
    "decrescente."
   ]
  },
  {
   "cell_type": "code",
   "execution_count": 135,
   "metadata": {},
   "outputs": [
    {
     "name": "stdout",
     "output_type": "stream",
     "text": [
      "3 > 2 > 1\n"
     ]
    }
   ],
   "source": [
    "#Variaveis\n",
    "\n",
    "numero1= int(input(\"Insira um numero\"))\n",
    "numero2= int(input(\"Insira outro numero\"))\n",
    "numero3= int(input(\"Insira um terceiro numero\"))\n",
    "\n",
    "\n",
    "#Solução\n",
    "\n",
    "if numero1>numero2 and numero2>numero3:\n",
    "    print(f\"{numero1} > {numero2} > {numero3}\")\n",
    "\n",
    "elif numero2>numero1 and numero1>numero3:\n",
    "    print(f\"{numero2} > {numero1} > {numero3}\")\n",
    "\n",
    "elif numero3>numero2 and numero2>numero1:\n",
    "    print(f\"{numero3} > {numero2} > {numero1}\")\n",
    "\n",
    "elif numero1>numero3 and numero3>numero2:\n",
    "    print(f\"{numero1} > {numero3} > {numero2}\")\n",
    "\n",
    "elif numero2>numero3 and numero3>numero1:\n",
    "    print(f\"{numero2} > {numero3} > {numero1}\")\n",
    "\n",
    "else:\n",
    "   print(f\"{numero3} > {numero1} > {numero2}\")\n"
   ]
  },
  {
   "cell_type": "markdown",
   "metadata": {},
   "source": [
    "Exercício 20 - Faça um Programa que pergunte em que turno você estuda. Peça para\n",
    "digitar M-matutino ou V-Vespertino ou N- Noturno. Imprima a mensagem \"Bom Dia!\",\n",
    "\"Boa Tarde!\" ou \"Boa Noite!\" ou \"Valor Inválido!\", conforme o caso."
   ]
  },
  {
   "cell_type": "code",
   "execution_count": 144,
   "metadata": {},
   "outputs": [
    {
     "name": "stdout",
     "output_type": "stream",
     "text": [
      "Boa tarde!\n"
     ]
    }
   ],
   "source": [
    "#Variaveis\n",
    "sigla= str(input(\"Digite qual o turno você estuda opções: M ou V ou N \"))\n",
    "\n",
    "#Solução\n",
    "if sigla==\"M\" or sigla==\"matutino\":\n",
    "    print(\"Bom dia!\")\n",
    "\n",
    "elif sigla==\"N\" or sigla==\"noturno\":\n",
    "    print(\"Boa noite!\")\n",
    "\n",
    "elif sigla==\"V\" or sigla==\"vespertino\":\n",
    "    print(\"Boa tarde!\")\n",
    "\n",
    "else:\n",
    "    print(\"Valor inválido!\")"
   ]
  },
  {
   "cell_type": "markdown",
   "metadata": {},
   "source": [
    "Exercício 21 - As Organizações Tabajara resolveram dar um aumento de salário aos\n",
    "seus colaboradores e lhe contaram para desenvolver o programa que calculará os\n",
    "reajustes. Faça um programa que recebe o salário de um colaborador e o reajuste\n",
    "segundo o seguinte critério, baseado no salário atual:\n",
    "• salários até R$ 280,00 (incluindo) : aumento de 20%\n",
    "• salários entre R$ 280,00 e R$ 700,00 : aumento de 15%\n",
    "• salários entre R$ 700,00 e R$ 1500,00 : aumento de 10%\n",
    "• salários de R$ 1500,00 em diante : aumento de 5%\n",
    "Após o aumento ser realizado, informe na tela:\n",
    "• salário antes do reajuste;\n",
    "• percentual de aumento aplicado;\n",
    "• valor do aumento;\n",
    "• novo salário, após o aumento."
   ]
  },
  {
   "cell_type": "code",
   "execution_count": 165,
   "metadata": {},
   "outputs": [
    {
     "name": "stdout",
     "output_type": "stream",
     "text": [
      "O salário indicado foi R$ 1000.0\n",
      "O percentual de aumento foi 10%\n",
      "Seu salario receberá um reajuste de R$ 100.0\n",
      "Seu salario ficará com o valor de R$ 1100.0\n"
     ]
    }
   ],
   "source": [
    "#Variavel\n",
    "salario=float(input(\"indique o valor do seu salário\"))\n",
    "\n",
    "#Solução \n",
    "#Valor do salário\n",
    "\n",
    "print(f\"O salário indicado foi R$ {salario}\")\n",
    "\n",
    "# Percentual de aumento\n",
    "\n",
    "if salario<=280:\n",
    "    print(\"O percentual de aumento foi 20%\")\n",
    "\n",
    "elif salario>280 and salario<700:\n",
    "    print(\"O percentual de aumento foi 15%\")\n",
    "\n",
    "elif salario>=700 and salario<1500:\n",
    "    print(\"O percentual de aumento foi 10%\")\n",
    "\n",
    "else:\n",
    "    print(\"O percentual de aumento foi 25%\")\n",
    "\n",
    "# calculo do aumento do salário\n",
    "\n",
    "if salario<=280:\n",
    "    print(f\"Seu salario receberá um reajuste de R$ {salario}*0.20\")\n",
    "\n",
    "elif salario>280 and salario<700:\n",
    "    print(f\"Seu salario receberá um reajuste de R$ {salario}*0.15\")\n",
    "\n",
    "elif salario>=700 and salario<1500:\n",
    "    print(f\"Seu salario receberá um reajuste de R$ {salario*0.10}\")\n",
    "\n",
    "else:\n",
    "    print(f\"Seu salario receberá um reajuste de R$ {salario}*0.05\")\n",
    "\n",
    "# calculo do salário reajustado salário\n",
    "\n",
    "if salario<=280:\n",
    "    print(f\"Seu salario ficará com o valor de R$ {salario*0.20 + salario}\")\n",
    "\n",
    "elif salario>280 and salario<700:\n",
    "    print(f\"Seu salario ficará com o valor de R$ {salario*0.15 + salario}\")\n",
    "\n",
    "elif salario>=700 and salario<1500:\n",
    "    print(f\"Seu salario ficará com o valor de R$ {salario*0.10 + salario}\")\n",
    "\n",
    "else:\n",
    "    print(f\"Seu salario ficará com o valor de R$ {salario*0.05 + salario}\")\n",
    "\n",
    "  \n",
    "\n",
    "\n"
   ]
  },
  {
   "cell_type": "markdown",
   "metadata": {},
   "source": [
    "Exercício 22 - Faça um programa para o cálculo de uma folha de pagamento, sabendo\n",
    "que os descontos são do Imposto de Renda, que depende do salário bruto (conforme\n",
    "tabela abaixo) e 3% para o Sindicato e que o FGTS corresponde a 11% do Salário Bruto,\n",
    "mas não é descontado (é a empresa que deposita). O Salário Líquido corresponde ao\n",
    "Salário Bruto menos os descontos. O programa deverá pedir ao usuário o valor da sua\n",
    "hora e a quantidade de horas trabalhadas no mês.\n",
    "Desconto do IR:\n",
    "• Salário Bruto até 900 (inclusive) – isento\n",
    "• Salário Bruto até 1500 (inclusive) - desconto de 5%\n",
    "• Salário Bruto até 2500 (inclusive) - desconto de 10%\n",
    "• Salário Bruto acima de 2500 - desconto de 20%\n",
    "Imprima na tela as informações, dispostas conforme o exemplo abaixo. No exemplo o\n",
    "valor da hora é 5 e a quantidade de hora é 220."
   ]
  },
  {
   "cell_type": "code",
   "execution_count": 171,
   "metadata": {},
   "outputs": [
    {
     "name": "stdout",
     "output_type": "stream",
     "text": [
      "Seu salário Bruto é R$2200.0\n",
      "Seu salário liquido é 1914.0\n"
     ]
    }
   ],
   "source": [
    "#Variaveis\n",
    "\n",
    "valorhora = float(input(\"Indique o valor da sua hora trabalhada\"))\n",
    "quanthora = int(input(\"Indique quantas horas você trabalhou esse mês\"))\n",
    "\n",
    "\n",
    "#Salario Bruto\n",
    "\n",
    "salariob=valorhora*quanthora\n",
    "print(f\"Seu salário Bruto é R${salariob}\")\n",
    "\n",
    "#Descontos\n",
    "\n",
    "fgts=0.11\n",
    "sind=0.03\n",
    "\n",
    "#calculo salario liquido\n",
    "\n",
    "if salariob <=900:\n",
    "    print(f\"Seu salário liquido é {salariob-salariob*(sind+0)}\")\n",
    "\n",
    "elif salariob>900 and salariob<=1500:\n",
    "   print(f\"Seu salário liquido é {salariob-salariob*(sind+0.05)}\")\n",
    "\n",
    "elif salariob >1500 and salariob<=2500:\n",
    "    print(f\"Seu salário liquido é {salariob-salariob*(sind+0.10)}\")\n",
    "\n",
    "else:\n",
    "    print(f\"Seu salário liquido é {salariob-salariob*(sind+0.20)}\")"
   ]
  },
  {
   "cell_type": "markdown",
   "metadata": {},
   "source": [
    "Exercício 23 ́- Faça um Programa que leia um número e exiba o dia correspondente da\n",
    "semana. (1- Domingo, 2- Segunda, etc.), se digitar outro valor deve aparecer valor\n",
    "inválido."
   ]
  },
  {
   "cell_type": "code",
   "execution_count": 182,
   "metadata": {},
   "outputs": [
    {
     "name": "stdout",
     "output_type": "stream",
     "text": [
      "Sábado\n"
     ]
    }
   ],
   "source": [
    "numero = int(input(\"Indique um numero de 1 a 7\"))\n",
    "\n",
    "if  numero == 1:\n",
    "    print(\"Domingo\")\n",
    "\n",
    "elif    numero == 2:\n",
    "    print(\"Segunda\")\n",
    "\n",
    "elif    numero == 3:\n",
    "    print(\"Terça\")  \n",
    "\n",
    "elif    numero == 4:\n",
    "    print(\"Quarta\") \n",
    "\n",
    "elif    numero == 5:\n",
    "    print(\"Quinta\")  \n",
    "\n",
    "elif    numero == 6:\n",
    "    print(\"Sexta\")  \n",
    "\n",
    "else:\n",
    "    print(\"Sábado\")\n"
   ]
  },
  {
   "cell_type": "markdown",
   "metadata": {},
   "source": [
    "Exercício 24 - Faça um programa que lê as duas notas parciais obtidas por um aluno\n",
    "numa disciplina ao longo de um semestre, e calcule a sua média. A atribuição de\n",
    "conceitos obedece à tabela abaixo:\n",
    "\n",
    "O algoritmo deve mostrar na tela as notas, a média, o conceito correspondente e a\n",
    "mensagem “APROVADO” se o conceito for A, B ou C ou “REPROVADO” se o conceito\n",
    "for D ou E.\n",
    "\n",
    "9 e 10 A\n",
    "7,5 e 9 B\n",
    "6 e 7,5 C\n",
    "4 e 6 D\n",
    "4 e 0 E"
   ]
  },
  {
   "cell_type": "code",
   "execution_count": 191,
   "metadata": {},
   "outputs": [
    {
     "name": "stdout",
     "output_type": "stream",
     "text": [
      "Nota 1: 3.0\n",
      "Nota 2: 3.0\n",
      "A média é: 3.0\n",
      "Você foi reprovado! CONCEITO E\n"
     ]
    }
   ],
   "source": [
    "#Variaveis\n",
    "\n",
    "nota1=float(input(\"Informe a sua primeira nota\"))\n",
    "nota2=float(input(\"Informe a sua segunda nota\"))\n",
    "media=(nota1+nota2)/2\n",
    "\n",
    "#Notas\n",
    "print(f\"Nota 1: {nota1}\")\n",
    "print(f\"Nota 2: {nota2}\")\n",
    "\n",
    "#Media\n",
    "print(f\"A média é: {media}\")\n",
    "\n",
    "#Resultado\n",
    "\n",
    "if media>=9 and media<=10:\n",
    "    print(\"Você foi aprovado! CONCEITO A\")\n",
    "\n",
    "elif media<9 and media>=7.5:\n",
    "    print(\"Você foi aprovado! CONCEITO B\")\n",
    "\n",
    "elif media<7.5 and media>=6:\n",
    "    print(\"Você foi aprovado! CONCEITO C\")\n",
    "    \n",
    "elif media<6 and media>=4:\n",
    "        print(\"Você foi reprovado! CONCEITO D\")\n",
    "\n",
    "else:\n",
    "    print(\"Você foi reprovado! CONCEITO E\")"
   ]
  }
 ],
 "metadata": {
  "kernelspec": {
   "display_name": "Python 3",
   "language": "python",
   "name": "python3"
  },
  "language_info": {
   "codemirror_mode": {
    "name": "ipython",
    "version": 3
   },
   "file_extension": ".py",
   "mimetype": "text/x-python",
   "name": "python",
   "nbconvert_exporter": "python",
   "pygments_lexer": "ipython3",
   "version": "3.11.0"
  }
 },
 "nbformat": 4,
 "nbformat_minor": 2
}
