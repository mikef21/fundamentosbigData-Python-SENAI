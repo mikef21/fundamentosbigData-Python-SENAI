{
 "cells": [
  {
   "cell_type": "markdown",
   "metadata": {},
   "source": [
    "LISTAS"
   ]
  },
  {
   "cell_type": "code",
   "execution_count": 6,
   "metadata": {},
   "outputs": [
    {
     "name": "stdout",
     "output_type": "stream",
     "text": [
      "Ana\n",
      "8\n"
     ]
    }
   ],
   "source": [
    "alunos = ['Ana','Amanda','Bruno','João']\n",
    "notas =[10,9,8,7]\n",
    "\n",
    "#Exibir o primeiro nome da lista de alunos\n",
    "\n",
    "print(alunos[0])\n",
    "\n",
    "#Exibir a terceira nota da lista notas\n",
    "print(notas[2])"
   ]
  },
  {
   "cell_type": "markdown",
   "metadata": {},
   "source": [
    "LISTAS (LIST) ACESSANDO ITENS"
   ]
  },
  {
   "cell_type": "code",
   "execution_count": 8,
   "metadata": {},
   "outputs": [
    {
     "data": {
      "text/plain": [
       "['Amanda', 'Bruno']"
      ]
     },
     "execution_count": 8,
     "metadata": {},
     "output_type": "execute_result"
    }
   ],
   "source": [
    "#Selecionar uma fatia dos dados (Amanda e Bruno)\n",
    "\n",
    "alunos[1:3]"
   ]
  },
  {
   "cell_type": "code",
   "execution_count": 9,
   "metadata": {},
   "outputs": [
    {
     "data": {
      "text/plain": [
       "['Bruno', 'João']"
      ]
     },
     "execution_count": 9,
     "metadata": {},
     "output_type": "execute_result"
    }
   ],
   "source": [
    "#Selecionar uma fatia dos dados (Bruno e João)\n",
    "\n",
    "alunos[2:]"
   ]
  },
  {
   "cell_type": "markdown",
   "metadata": {},
   "source": [
    "### IDENTIFICANDO O TIPO DE INFORMAÇÃO"
   ]
  },
  {
   "cell_type": "code",
   "execution_count": 10,
   "metadata": {},
   "outputs": [
    {
     "data": {
      "text/plain": [
       "list"
      ]
     },
     "execution_count": 10,
     "metadata": {},
     "output_type": "execute_result"
    }
   ],
   "source": [
    "type(notas)"
   ]
  },
  {
   "cell_type": "code",
   "execution_count": 11,
   "metadata": {},
   "outputs": [
    {
     "data": {
      "text/plain": [
       "4"
      ]
     },
     "execution_count": 11,
     "metadata": {},
     "output_type": "execute_result"
    }
   ],
   "source": [
    "len(notas)"
   ]
  },
  {
   "cell_type": "code",
   "execution_count": 12,
   "metadata": {},
   "outputs": [
    {
     "data": {
      "text/plain": [
       "int"
      ]
     },
     "execution_count": 12,
     "metadata": {},
     "output_type": "execute_result"
    }
   ],
   "source": [
    "type(notas[0])"
   ]
  },
  {
   "cell_type": "markdown",
   "metadata": {},
   "source": [
    "List(list) - Conversão para string\n",
    "\n",
    "Para converter uma lista em STRING nós utilizamos o comando JOIN"
   ]
  },
  {
   "cell_type": "code",
   "execution_count": 13,
   "metadata": {},
   "outputs": [
    {
     "name": "stdout",
     "output_type": "stream",
     "text": [
      "Batata;Óleo;Margarina;Café\n",
      "<class 'str'>\n",
      "['Batata', 'Óleo', 'Margarina', 'Café']\n",
      "<class 'list'>\n"
     ]
    }
   ],
   "source": [
    "supermercado = ['Batata','Óleo','Margarina','Café']\n",
    "\n",
    "listaconvertida = ';'.join(supermercado)\n",
    "\n",
    "print(listaconvertida)\n",
    "\n",
    "print(type(listaconvertida))\n",
    "\n",
    "lista= listaconvertida.split(';')\n",
    "print (lista)\n",
    "print(type(lista))"
   ]
  },
  {
   "cell_type": "markdown",
   "metadata": {},
   "source": [
    "### Tuples (Tuple)\n",
    "\n",
    "- Criamos utilizando parenteses\n",
    "\n",
    "- Separamos os elementos por vingulas\n",
    "\n",
    "- Após sua definição, não podemos alterar sua estrutura"
   ]
  },
  {
   "cell_type": "code",
   "execution_count": null,
   "metadata": {},
   "outputs": [
    {
     "name": "stdout",
     "output_type": "stream",
     "text": [
      "<class 'tuple'>\n",
      "<class 'tuple'>\n"
     ]
    }
   ],
   "source": [
    "valores = (90,79,54,32,21)\n",
    "pontos = (100,94.05,86.08,62)\n",
    "\n",
    "print(type(valores))\n",
    "print(type(pontos))\n",
    "\n",
    "valores[0] = 30"
   ]
  },
  {
   "cell_type": "markdown",
   "metadata": {},
   "source": [
    "###TUPLAS (TUPLE) - OUTROS EXEMPLOS\n"
   ]
  },
  {
   "cell_type": "code",
   "execution_count": 4,
   "metadata": {},
   "outputs": [
    {
     "name": "stdout",
     "output_type": "stream",
     "text": [
      "[10, 2]\n",
      "Não é possível modificar uma tupla\n"
     ]
    }
   ],
   "source": [
    "my_list = [1,2] #CRIANDO UMA LISTA\n",
    "\n",
    "my_tuple = (1,2) #CRIANDO UMA TUPLA\n",
    "\n",
    "# ALTERANDO O ELEMENTO DA POSIÇÃO 1 DA LISTA\n",
    "# LISTAS PERMITEM A SUA ALTERAÇÃO\n",
    "\n",
    "my_list[0] = 10\n",
    "\n",
    "print(my_list)\n",
    "\n",
    "# ALTERAR UM ELEMENTO DE UMA TUPLA:\n",
    "\n",
    "try:\n",
    "\n",
    "    my_tuple[1]=3\n",
    "\n",
    "except TypeError:\n",
    "\n",
    "    print(\"Não é possível modificar uma tupla\")"
   ]
  },
  {
   "cell_type": "markdown",
   "metadata": {},
   "source": [
    "### CRIANDO UMA FUNÇÃO COM TUPLAS\n"
   ]
  },
  {
   "cell_type": "code",
   "execution_count": 8,
   "metadata": {},
   "outputs": [],
   "source": [
    "def sum_and_product (x,y):\n",
    "    \n",
    "    return (x+y),(x*y)\n"
   ]
  },
  {
   "cell_type": "code",
   "execution_count": 9,
   "metadata": {},
   "outputs": [
    {
     "data": {
      "text/plain": [
       "(15, 50)"
      ]
     },
     "execution_count": 9,
     "metadata": {},
     "output_type": "execute_result"
    }
   ],
   "source": [
    "sum_and_product (10,5)"
   ]
  },
  {
   "cell_type": "markdown",
   "metadata": {},
   "source": [
    "DICIONÁRIOS (DICT)\n",
    "\n",
    "Dict é um tipo de dado muito flexível do Python.\n",
    "Eles são utilizados para agrupar elementos através da estrutura de chave e valor,\n",
    "onde a chave é o primeiro elemento seguido por dois pontos e pelo valor.\n",
    "Vamos ver alguns exemplos:"
   ]
  },
  {
   "cell_type": "code",
   "execution_count": 14,
   "metadata": {},
   "outputs": [
    {
     "name": "stdout",
     "output_type": "stream",
     "text": [
      "<class 'dict'>\n",
      "<class 'dict'>\n",
      "1.6\n",
      "50\n"
     ]
    }
   ],
   "source": [
    "altura = {'AMANDA':1.65,'ANA':1.60,'JOÃO':1.50}\n",
    "peso ={'AMANDA':60,'ANA':50,'JOÃO':100}\n",
    "\n",
    "print(type(altura))\n",
    "print(type(peso))\n",
    "\n",
    "#Acessar informações do dicionario\n",
    "\n",
    "print(altura[\"ANA\"])\n",
    "print(peso[\"ANA\"])"
   ]
  }
 ],
 "metadata": {
  "kernelspec": {
   "display_name": "Python 3",
   "language": "python",
   "name": "python3"
  },
  "language_info": {
   "codemirror_mode": {
    "name": "ipython",
    "version": 3
   },
   "file_extension": ".py",
   "mimetype": "text/x-python",
   "name": "python",
   "nbconvert_exporter": "python",
   "pygments_lexer": "ipython3",
   "version": "3.11.0"
  }
 },
 "nbformat": 4,
 "nbformat_minor": 2
}
