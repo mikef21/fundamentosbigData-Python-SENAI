{
 "cells": [
  {
   "cell_type": "markdown",
   "metadata": {},
   "source": [
    "Exercício 01 - Crie uma lista com nomes de 4 times de futebol.\n",
    "\n",
    "a) Palmeiras\n",
    "b) São Paulo\n",
    "c) Santos\n",
    "d) Água Santa\n",
    "e) Acesse o time que está na 3a posição.\n",
    "f) Crie uma lista com duas listas de 3 times de futebol, cada uma de uma\n",
    "divisão diferente."
   ]
  },
  {
   "cell_type": "code",
   "execution_count": 9,
   "metadata": {},
   "outputs": [
    {
     "name": "stdout",
     "output_type": "stream",
     "text": [
      "[['São Paulo', 'Santos', 'Água Santa'], ['Palmeiras', 'Corinthians', 'Flamengo']]\n"
     ]
    }
   ],
   "source": [
    "times = ['Palmeiras','São Paulo','Santos','Água Santa']\n",
    "times [2]\n",
    "\n",
    "lista1divisao = ['São Paulo','Santos','Água Santa']\n",
    "lista2divisao = ['Palmeiras','Corinthians','Flamengo']\n",
    "\n",
    "listatimes = [lista1divisao,lista2divisao]\n",
    "\n",
    "print(listatimes)\n"
   ]
  },
  {
   "cell_type": "code",
   "execution_count": 10,
   "metadata": {},
   "outputs": [
    {
     "data": {
      "text/plain": [
       "'Flamengo'"
      ]
     },
     "execution_count": 10,
     "metadata": {},
     "output_type": "execute_result"
    }
   ],
   "source": [
    "listatimes [1][2]"
   ]
  },
  {
   "cell_type": "markdown",
   "metadata": {},
   "source": [
    "Exercício 02 - Crie uma lista com 3 diferentes moedas. Acrescente mais 2\n",
    "outras moedas à essa mesma lista."
   ]
  },
  {
   "cell_type": "code",
   "execution_count": 18,
   "metadata": {},
   "outputs": [
    {
     "name": "stdout",
     "output_type": "stream",
     "text": [
      "['real', 'dolar', 'euro']\n",
      "['real', 'dolar', 'euro', 'libra', 'cruzeiro']\n"
     ]
    }
   ],
   "source": [
    "moedas = ['real','dolar','euro']\n",
    "print(moedas)\n",
    "\n",
    "#Adicionando elementos ao final da lista\n",
    "\n",
    "moedas.append ('libra')\n",
    "moedas.append ('cruzeiro')\n",
    "\n",
    "print(moedas)"
   ]
  },
  {
   "cell_type": "code",
   "execution_count": 118,
   "metadata": {},
   "outputs": [
    {
     "data": {
      "text/plain": [
       "['real', 'CRUZEIRO', 'CRUZEIRO', 'dolar', 'euro', 'libra', 'cruzeiro']"
      ]
     },
     "execution_count": 118,
     "metadata": {},
     "output_type": "execute_result"
    }
   ],
   "source": [
    "#adicionar um elemento a posição 1 da lista\n",
    "\n",
    "moedas.insert(1,'CRUZEIRO')\n",
    "moedas\n",
    "\n",
    "#excluir um elemento da lista\n",
    "\n",
    "moedas.remove('CRUZEIRO')\n",
    "moedas\n"
   ]
  },
  {
   "cell_type": "markdown",
   "metadata": {},
   "source": [
    "Exercício 03 - Crie uma string com a lista do exercício anterior."
   ]
  },
  {
   "cell_type": "code",
   "execution_count": 128,
   "metadata": {},
   "outputs": [
    {
     "name": "stdout",
     "output_type": "stream",
     "text": [
      "real;CRUZEIRO;CRUZEIRO;dolar;euro;libra;cruzeiro\n",
      "<class 'str'>\n"
     ]
    }
   ],
   "source": [
    "moedasconvertida = ';'.join(moedas)\n",
    "\n",
    "print(moedasconvertida)\n",
    "print(type(moedasconvertida))\n"
   ]
  },
  {
   "cell_type": "markdown",
   "metadata": {},
   "source": [
    "Exercício 04 - Agora utilize a string do exercício 3 para recriar uma lista."
   ]
  },
  {
   "cell_type": "code",
   "execution_count": 129,
   "metadata": {},
   "outputs": [
    {
     "name": "stdout",
     "output_type": "stream",
     "text": [
      "['real;CRUZEIRO;CRUZEIRO;dolar;euro;libra;cruzeiro']\n",
      "<class 'list'>\n"
     ]
    }
   ],
   "source": [
    "moedasconvertida = moedasconvertida.split(',')\n",
    "\n",
    "print(moedasconvertida)\n",
    "print(type(moedasconvertida))"
   ]
  },
  {
   "cell_type": "markdown",
   "metadata": {},
   "source": [
    "Exercício 05 - Crie um dicionário chamado cardápio em que as chaves são os\n",
    "dias da semana e os respectivos valores sejam os pratos do dia."
   ]
  },
  {
   "cell_type": "code",
   "execution_count": 150,
   "metadata": {},
   "outputs": [
    {
     "data": {
      "text/plain": [
       "['a_parmeggiana']"
      ]
     },
     "execution_count": 150,
     "metadata": {},
     "output_type": "execute_result"
    }
   ],
   "source": [
    "cardapio = {\n",
    "    'seg':['macarrão'],\n",
    "    'ter':['a_parmeggiana'],\n",
    "    'qua':['feijoada'],\n",
    "    'qui':['ovo'],\n",
    "    'sex':['whey'],\n",
    "    'sab':['peixe'],\n",
    "    'dom':['strogonoff']\n",
    "    }\n",
    "\n",
    "cardapio['ter']"
   ]
  },
  {
   "cell_type": "markdown",
   "metadata": {},
   "source": [
    "Exercício 06 - Crie um dicionário chamado hemograma que contenha as\n",
    "seguintes chaves:valor.\n",
    "• hemacias: 4.71\n",
    "• hemoglobina: 14.1\n",
    "• hematocrito: 41.2\n",
    "• linfócitos: 38\n",
    "• monocitos: 7\n",
    "• resultado: saudável"
   ]
  },
  {
   "cell_type": "code",
   "execution_count": 149,
   "metadata": {},
   "outputs": [
    {
     "data": {
      "text/plain": [
       "4.71"
      ]
     },
     "execution_count": 149,
     "metadata": {},
     "output_type": "execute_result"
    }
   ],
   "source": [
    "hemograma = {\n",
    "    'hemacias': 4.71,\n",
    "    'hemoglobina': 14.1,\n",
    "    'hematocrito': 41.2,\n",
    "    'linfócitos': 38,\n",
    "    'monocitos': 7,\n",
    "    'resultado': 'saudavel'\n",
    "    }\n",
    "\n",
    "hemograma['hemacias']"
   ]
  }
 ],
 "metadata": {
  "kernelspec": {
   "display_name": "Python 3",
   "language": "python",
   "name": "python3"
  },
  "language_info": {
   "codemirror_mode": {
    "name": "ipython",
    "version": 3
   },
   "file_extension": ".py",
   "mimetype": "text/x-python",
   "name": "python",
   "nbconvert_exporter": "python",
   "pygments_lexer": "ipython3",
   "version": "3.11.0"
  }
 },
 "nbformat": 4,
 "nbformat_minor": 2
}
